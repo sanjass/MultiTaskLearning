{
  "nbformat": 4,
  "nbformat_minor": 0,
  "metadata": {
    "kernelspec": {
      "display_name": "Python 3",
      "language": "python",
      "name": "python3"
    },
    "language_info": {
      "codemirror_mode": {
        "name": "ipython",
        "version": 3
      },
      "file_extension": ".py",
      "mimetype": "text/x-python",
      "name": "python",
      "nbconvert_exporter": "python",
      "pygments_lexer": "ipython3",
      "version": "3.7.6"
    },
    "toc": {
      "base_numbering": 1,
      "nav_menu": {},
      "number_sections": true,
      "sideBar": true,
      "skip_h1_title": false,
      "title_cell": "Table of Contents",
      "title_sidebar": "Contents",
      "toc_cell": false,
      "toc_position": {},
      "toc_section_display": true,
      "toc_window_display": false
    },
    "colab": {
      "name": "ex2_final_project.ipynb",
      "provenance": [],
      "collapsed_sections": [],
      "toc_visible": true
    },
    "accelerator": "GPU"
  },
  "cells": [
    {
      "cell_type": "markdown",
      "metadata": {
        "id": "jbf0EWn2Suib"
      },
      "source": [
        "# Installation\n",
        "You do not have to follow our installation instructions if you have roughly equivalent setups / environments already.\n",
        "\n",
        "We will use Conda and Pip to help us install packages for this homework. If you do not have Miniconda or Anaconda, you can install Miniconda from here https://docs.conda.io/en/latest/miniconda.html.\n",
        "\n",
        "```\n",
        "conda create --name exercise2 python=3.7\n",
        "conda activate exercise2\n",
        "\n",
        "pip install jupyter pandas\n",
        "```\n",
        "\n",
        "Go to https://pytorch.org/ to install PyTorch if you don't have it already\n",
        "\n",
        "To install the Hugging Face `transformers` library, run\n",
        "```\n",
        "pip install transformers\n",
        "```\n",
        "\n",
        "Follow the instructions from https://docs.dgl.ai/en/0.4.x/install/ to install Deep Graph Library (DGL).\n",
        "\n",
        "Spin up jupyter notebook with\n",
        "```\n",
        "jupyter notebook\n",
        "```\n",
        "\n",
        "# Exercise\n",
        "Our exercise is an implementation of the paper [Graph-to-Tree Learning for Solving Math Word Problems](https://www.aclweb.org/anthology/2020.acl-main.362.pdf), which solves math word problems in the MAWPS dataset. Please run `demo.ipynb` for some visualizations of the overall pipeline. We recommend that you read the original paper as well if necessary.\n",
        "\n",
        "## Provided Components\n",
        "1. We provide the entire input and output processing pipeline for you, as described in `demo.ipynb`.\n",
        "2. We provide a fully implemented custom implementation of the transformer in the `TransformerBlock` class.\n",
        "3. We provide a partially implemented graph convolutional network in the `GCN` class.\n",
        "4. We provide a fully implemented tree decoding network in `TreeDecoder`. The tree decoding logic in `train` and `predict` is fully implemented.\n",
        "5. If `use_t5 = 'small'`, `setup` will load in a pretrained `t5-small` into the variable `t5_model`.\n",
        "\n",
        "## Tasks\n",
        "Your tasks are\n",
        "1. Use Deep Graph Library (DGL) to complete the graph convolution network. Keep `use_t5 = None` for this part. The baseline performance obtained by the TA is 0.74 validation value accuracy. Report validation accuracies for at least 5 sets of hyperparameters.\n",
        "2. Use Hugging Face `transformers` library to replace the custom transformer base model with a pre-trained `t5-small` model. Set `use_t5 = 'small'` for this part. The baseline performance obtained by the TA is 0.78 validation value accuracy. Report validation accuracies for at least 5 sets of hyperparameters.\n",
        "3. Change any part of the code (e.g. hyperparameter, architecture, training data, etc.) to optimize the performance of at least one of the transformers (custom or T5) to be better than the baseline performance.\n",
        "\n",
        "Note that for parts 1 and 2, you should not change any provided component at all. For part 3, you may change any part of the code.\n",
        "\n",
        "For each of these parts, please run all the cells until and including the \"Training Loop\" cell below (they are all definition cells except the actual training loop cell). When you run the training loop without completing some required part of the exercise, the code will throw a `NotImplementedError`; you should fill out the required code to fix this error, then run the training loop again."
      ]
    },
    {
      "cell_type": "code",
      "metadata": {
        "id": "1zr8Se__S-6S",
        "colab": {
          "base_uri": "https://localhost:8080/"
        },
        "outputId": "d6919b5f-dd4b-423c-ad9c-e3a3202202c6"
      },
      "source": [
        "!pip install transformers\n",
        "!pip install dgl-cu101 # install dgl with cuda 10.1 support\n",
        "\n"
      ],
      "execution_count": 19,
      "outputs": [
        {
          "output_type": "stream",
          "text": [
            "Requirement already satisfied: transformers in /usr/local/lib/python3.6/dist-packages (3.5.1)\n",
            "Requirement already satisfied: packaging in /usr/local/lib/python3.6/dist-packages (from transformers) (20.4)\n",
            "Requirement already satisfied: requests in /usr/local/lib/python3.6/dist-packages (from transformers) (2.23.0)\n",
            "Requirement already satisfied: filelock in /usr/local/lib/python3.6/dist-packages (from transformers) (3.0.12)\n",
            "Requirement already satisfied: sacremoses in /usr/local/lib/python3.6/dist-packages (from transformers) (0.0.43)\n",
            "Requirement already satisfied: dataclasses; python_version < \"3.7\" in /usr/local/lib/python3.6/dist-packages (from transformers) (0.8)\n",
            "Requirement already satisfied: regex!=2019.12.17 in /usr/local/lib/python3.6/dist-packages (from transformers) (2019.12.20)\n",
            "Requirement already satisfied: tqdm>=4.27 in /usr/local/lib/python3.6/dist-packages (from transformers) (4.41.1)\n",
            "Requirement already satisfied: numpy in /usr/local/lib/python3.6/dist-packages (from transformers) (1.18.5)\n",
            "Requirement already satisfied: sentencepiece==0.1.91 in /usr/local/lib/python3.6/dist-packages (from transformers) (0.1.91)\n",
            "Requirement already satisfied: tokenizers==0.9.3 in /usr/local/lib/python3.6/dist-packages (from transformers) (0.9.3)\n",
            "Requirement already satisfied: protobuf in /usr/local/lib/python3.6/dist-packages (from transformers) (3.12.4)\n",
            "Requirement already satisfied: six in /usr/local/lib/python3.6/dist-packages (from packaging->transformers) (1.15.0)\n",
            "Requirement already satisfied: pyparsing>=2.0.2 in /usr/local/lib/python3.6/dist-packages (from packaging->transformers) (2.4.7)\n",
            "Requirement already satisfied: urllib3!=1.25.0,!=1.25.1,<1.26,>=1.21.1 in /usr/local/lib/python3.6/dist-packages (from requests->transformers) (1.24.3)\n",
            "Requirement already satisfied: idna<3,>=2.5 in /usr/local/lib/python3.6/dist-packages (from requests->transformers) (2.10)\n",
            "Requirement already satisfied: chardet<4,>=3.0.2 in /usr/local/lib/python3.6/dist-packages (from requests->transformers) (3.0.4)\n",
            "Requirement already satisfied: certifi>=2017.4.17 in /usr/local/lib/python3.6/dist-packages (from requests->transformers) (2020.11.8)\n",
            "Requirement already satisfied: joblib in /usr/local/lib/python3.6/dist-packages (from sacremoses->transformers) (0.17.0)\n",
            "Requirement already satisfied: click in /usr/local/lib/python3.6/dist-packages (from sacremoses->transformers) (7.1.2)\n",
            "Requirement already satisfied: setuptools in /usr/local/lib/python3.6/dist-packages (from protobuf->transformers) (50.3.2)\n",
            "Requirement already satisfied: dgl-cu101 in /usr/local/lib/python3.6/dist-packages (0.5.2)\n",
            "Requirement already satisfied: scipy>=1.1.0 in /usr/local/lib/python3.6/dist-packages (from dgl-cu101) (1.4.1)\n",
            "Requirement already satisfied: networkx>=2.1 in /usr/local/lib/python3.6/dist-packages (from dgl-cu101) (2.5)\n",
            "Requirement already satisfied: numpy>=1.14.0 in /usr/local/lib/python3.6/dist-packages (from dgl-cu101) (1.18.5)\n",
            "Requirement already satisfied: requests>=2.19.0 in /usr/local/lib/python3.6/dist-packages (from dgl-cu101) (2.23.0)\n",
            "Requirement already satisfied: decorator>=4.3.0 in /usr/local/lib/python3.6/dist-packages (from networkx>=2.1->dgl-cu101) (4.4.2)\n",
            "Requirement already satisfied: idna<3,>=2.5 in /usr/local/lib/python3.6/dist-packages (from requests>=2.19.0->dgl-cu101) (2.10)\n",
            "Requirement already satisfied: certifi>=2017.4.17 in /usr/local/lib/python3.6/dist-packages (from requests>=2.19.0->dgl-cu101) (2020.11.8)\n",
            "Requirement already satisfied: chardet<4,>=3.0.2 in /usr/local/lib/python3.6/dist-packages (from requests>=2.19.0->dgl-cu101) (3.0.4)\n",
            "Requirement already satisfied: urllib3!=1.25.0,!=1.25.1,<1.26,>=1.21.1 in /usr/local/lib/python3.6/dist-packages (from requests>=2.19.0->dgl-cu101) (1.24.3)\n"
          ],
          "name": "stdout"
        }
      ]
    },
    {
      "cell_type": "code",
      "metadata": {
        "colab": {
          "base_uri": "https://localhost:8080/"
        },
        "id": "LMOlF6DLVw3T",
        "outputId": "60866408-e192-460d-f270-205f33fd2fd6"
      },
      "source": [
        "from google.colab import drive\n",
        "drive.mount('/content/drive')\n",
        "root_dir = '/content/drive/My Drive/exercise2'\n",
        "answers_path = '/content/drive/My Drive/exercise2/data/answers.json'\n",
        "%cd $root_dir"
      ],
      "execution_count": 20,
      "outputs": [
        {
          "output_type": "stream",
          "text": [
            "Drive already mounted at /content/drive; to attempt to forcibly remount, call drive.mount(\"/content/drive\", force_remount=True).\n",
            "/content/drive/My Drive/exercise2\n"
          ],
          "name": "stdout"
        }
      ]
    },
    {
      "cell_type": "code",
      "metadata": {
        "ExecuteTime": {
          "end_time": "2020-10-31T01:11:36.346121Z",
          "start_time": "2020-10-31T01:11:36.339539Z"
        },
        "id": "a2p6TMgWSuic"
      },
      "source": [
        "from copy import copy\n",
        "import itertools\n",
        "import os\n",
        "import json\n",
        "from tqdm import tqdm, trange\n",
        "\n",
        "import numpy as np\n",
        "\n",
        "import torch\n",
        "import torch.nn as nn\n",
        "import torch.nn.functional as F\n",
        "\n",
        "import dgl\n",
        "from dgl.nn import GraphConv\n",
        "\n",
        "# need to upload util.py manually\n",
        "from util import setup, check_match, sub_nP, evaluate_prefix_expression"
      ],
      "execution_count": 21,
      "outputs": []
    },
    {
      "cell_type": "code",
      "metadata": {
        "id": "di1cxpz3_1Hs",
        "colab": {
          "base_uri": "https://localhost:8080/"
        },
        "outputId": "6585e80a-f0bb-40e0-a28f-ce91abb2eb15"
      },
      "source": [
        "%ls\n",
        "%ls data/"
      ],
      "execution_count": 22,
      "outputs": [
        {
          "output_type": "stream",
          "text": [
            " \u001b[0m\u001b[01;34mdata\u001b[0m/        exercise2.html    myprediction.csv   \u001b[01;34mresources\u001b[0m/\n",
            " demo.html    exercise2.ipynb   \u001b[01;34mnew_models\u001b[0m/        util.py\n",
            " demo.ipynb  'Exercise 2.pdf'   \u001b[01;34m__pycache__\u001b[0m/       workflow.png\n",
            "answers.json      test.json      test_old.json  train_old.json\n",
            "answers_mtl.json  test_mtl.json  train.json\n"
          ],
          "name": "stdout"
        }
      ]
    },
    {
      "cell_type": "code",
      "metadata": {
        "id": "gPRhn4Yri9NJ"
      },
      "source": [
        "assert os.path.exists(\"data/train.json\"), \"Manually upload the necessary files\"\n",
        "assert os.path.exists(\"data/test.json\"), \"Manually upload the necessary files\"\n",
        "assert os.path.exists(\"util.py\") , \"Manually upload the necessary files\""
      ],
      "execution_count": 23,
      "outputs": []
    },
    {
      "cell_type": "markdown",
      "metadata": {
        "id": "NE7PBjd9Suif"
      },
      "source": [
        "# Converting Inputs to Torch Tensors"
      ]
    },
    {
      "cell_type": "code",
      "metadata": {
        "ExecuteTime": {
          "end_time": "2020-10-31T01:05:19.769631Z",
          "start_time": "2020-10-31T01:05:19.746942Z"
        },
        "id": "o3xNOPOnSuig"
      },
      "source": [
        "def tensorize_data(data):\n",
        "    \"\"\"\n",
        "    Collect tensors to build the input data for the model\n",
        "    \"\"\"\n",
        "    for d in data:\n",
        "        # Indices of the in_tokens in the in_vocab\n",
        "        d['in_idxs'] = torch.tensor([in_vocab.token2idx.get(x, in_vocab.unk) for x in d['in_tokens']])\n",
        "        d['n_in'] = n_in = len(d['in_idxs'])\n",
        "        d['n_nP'] = n_nP = len(d['nP'])\n",
        "        # True if the position in the input has a quantity\n",
        "        d['nP_in_mask'] = mask = torch.zeros(n_in, dtype=torch.bool)\n",
        "        mask[d['nP_positions']] = True\n",
        "        if 'out_tokens' in d:\n",
        "            # Indices of the out_tokens in the out_vocab\n",
        "            d['out_idxs'] = torch.tensor([out_vocab.token2idx.get(x, out_vocab.unk) for x in d['out_tokens']])\n",
        "            d['n_out'] = len(d['out_idxs'])\n",
        "            # A mask where the first n_nP elements are True\n",
        "            d['nP_out_mask'] = mask = torch.zeros(n_max_nP, dtype=torch.bool)\n",
        "            mask[:n_nP] = True\n",
        "        # Graph edges for constructing the DGL graph later\n",
        "        d['qcomp_edges'] = get_quantity_comparison_edges(d)\n",
        "        d['qcell_edges'] = get_quantity_cell_edges(d)\n",
        "\n",
        "def get_quantity_comparison_edges(d):\n",
        "    \"\"\"\n",
        "    Fill out an adjacency matrix representing quantity comparisons, then convert to list of edges\n",
        "    \"\"\"\n",
        "    quants = [float(x) for x in d['nP']]\n",
        "    quant_positions = d['nP_positions']\n",
        "    assert max(quant_positions) < d['n_in']\n",
        "    adj_matrix = torch.eye(d['n_in'], dtype=np.bool)\n",
        "    for x, x_pos in zip(quants, quant_positions):\n",
        "        for y, y_pos in zip(quants, quant_positions):\n",
        "            adj_matrix[x_pos, y_pos] |= x > y\n",
        "    \"\"\"\n",
        "    Convert the adjacency matrix of the directed graph into a tuple of (src_edges, dst_edges), which\n",
        "    is the input format of dgl.graph (see https://docs.dgl.ai/generated/dgl.graph.html).\n",
        "    Hint: check out the 'nonzero' function\n",
        "    \"\"\"\n",
        "    ### Your code here ### DONE\n",
        "    edges = torch.nonzero(adj_matrix, as_tuple=True)\n",
        "    return edges\n",
        "\n",
        "def get_quantity_cell_edges(d):\n",
        "    \"\"\"\n",
        "    Fill out an adjacency matrix representing the quantity cell graph, then convert to list of edges\n",
        "    \"\"\"\n",
        "    in_idxs = d['in_idxs']\n",
        "    quant_positions = d['nP_positions']\n",
        "    quant_cell_positions = d['quant_cell_positions']\n",
        "    assert max(quant_cell_positions) < d['n_in']\n",
        "    word_cells = set(quant_cell_positions) - set(quant_positions)\n",
        "    adj_matrix = torch.eye(d['n_in'], dtype=torch.bool)\n",
        "    for w_pos in word_cells:\n",
        "        for q_pos in quant_positions:\n",
        "            if abs(w_pos - q_pos) < 4:\n",
        "                adj_matrix[w_pos, q_pos] = adj_matrix[q_pos, w_pos] = True\n",
        "    pos_idxs = in_idxs[quant_cell_positions]\n",
        "    for idx1, pos1 in zip(pos_idxs, quant_cell_positions):\n",
        "        for idx2, pos2 in zip(pos_idxs, quant_cell_positions):\n",
        "            if idx1 == idx2:\n",
        "                adj_matrix[pos1, pos2] = adj_matrix[pos2, pos1] = True\n",
        "    \"\"\"\n",
        "    Convert the adjacency matrix of the directed graph into a tuple of (src_edges, dst_edges), which\n",
        "    is the input format of dgl.graph (see https://docs.dgl.ai/generated/dgl.graph.html).\n",
        "    Hint: check out the 'nonzero' function\n",
        "    \"\"\"\n",
        "    ### Your code here ### DONE\n",
        "    edges = torch.nonzero(adj_matrix, as_tuple=True)\n",
        "    return edges\n"
      ],
      "execution_count": 24,
      "outputs": []
    },
    {
      "cell_type": "markdown",
      "metadata": {
        "id": "mtR8lb7PSuij"
      },
      "source": [
        "# Model"
      ]
    },
    {
      "cell_type": "code",
      "metadata": {
        "ExecuteTime": {
          "end_time": "2020-10-31T01:05:20.129946Z",
          "start_time": "2020-10-31T01:05:19.772095Z"
        },
        "code_folding": [],
        "id": "GpnOAVm5Suij"
      },
      "source": [
        "from transformers import AutoModelWithLMHead\n",
        "class TransformerAttention(nn.Module):\n",
        "    \"\"\"\n",
        "    Used in Transformer Block, implements the dot-product attention\n",
        "    \"\"\"\n",
        "    def __init__(self):\n",
        "        super().__init__()\n",
        "        self.qkv = nn.Linear(n_hid, n_head * (n_k * 2 + n_v))\n",
        "        self.out = nn.Linear(n_head * n_v, n_hid)\n",
        "\n",
        "    def forward(self, x, mask=None):\n",
        "        n_batch, n_batch_max_in, n_hid = x.shape\n",
        "        q_k_v = self.qkv(x).view(n_batch, n_batch_max_in, n_head, 2 * n_k + n_v).transpose(1, 2)\n",
        "        q, k, v = q_k_v.split([n_k, n_k, n_v], dim=-1)\n",
        "\n",
        "        q = q.reshape(n_batch * n_head, n_batch_max_in, n_k)\n",
        "        k = k.reshape_as(q).transpose(1, 2)\n",
        "        qk = q.bmm(k) / np.sqrt(n_k)\n",
        "\n",
        "        if mask is not None:\n",
        "            qk = qk.view(n_batch, n_head, n_batch_max_in, n_batch_max_in).transpose(1, 2)\n",
        "            qk[~mask] = -np.inf\n",
        "            qk = qk.transpose(1, 2).view(n_batch * n_head, n_batch_max_in, n_batch_max_in)\n",
        "        qk = qk.softmax(dim=-1)\n",
        "        v = v.reshape(n_batch * n_head, n_batch_max_in, n_v)\n",
        "        qkv = qk.bmm(v).view(n_batch, n_head, n_batch_max_in, n_v).transpose(1, 2).reshape(n_batch, n_batch_max_in, n_head * n_v)\n",
        "        out = self.out(qkv)\n",
        "        return x + out\n",
        "\n",
        "class TransformerBlock(nn.Module):\n",
        "    \"\"\"\n",
        "    Custom Transformer\n",
        "    \"\"\"\n",
        "    def __init__(self):\n",
        "        super().__init__()\n",
        "        self.attn = TransformerAttention()\n",
        "        n_inner = n_hid * 4\n",
        "        self.inner = nn.Sequential(\n",
        "            nn.Linear(n_hid, n_inner),\n",
        "            nn.ReLU(inplace=True),\n",
        "            nn.Linear(n_inner, n_hid)\n",
        "        )\n",
        "\n",
        "    def forward(self, x, mask=None):\n",
        "        x = x + self.attn(x, mask=mask)\n",
        "        return x + self.inner(x)\n",
        "    \n",
        "class GCNBranch(nn.Module):\n",
        "    def __init__(self, n_hid_in, n_hid_out, dropout=0.3):\n",
        "        super().__init__()\n",
        "        \"\"\"\n",
        "        Define a branch of the graph convolution with\n",
        "        1. GraphConv from n_hid_in to n_hid_in\n",
        "        2. ReLU\n",
        "        3. Dropout\n",
        "        4. GraphConv from n_hid_in to n_hid_out\n",
        "        \n",
        "        Note: your should call dgl.nn.GraphConv with allow_zero_in_degree=True\n",
        "        \"\"\"\n",
        "        ### Your code here ### DONE\n",
        "        self.conv1 = dgl.nn.GraphConv(n_hid_in, n_hid_in, allow_zero_in_degree=True)\n",
        "        self.relu = torch.nn.ReLU()\n",
        "        self.dropout = torch.nn.Dropout(dropout)\n",
        "        self.conv2 = dgl.nn.GraphConv(n_hid_in, n_hid_out, allow_zero_in_degree=True)\n",
        "\n",
        "        # self.dropout2 = torch.nn.Dropout(dropout)\n",
        "        # self.conv3 = dgl.nn.GraphConv(n_hid_in, n_hid_out, allow_zero_in_degree=True)\n",
        "\n",
        "\n",
        "    def forward(self, x, graph):\n",
        "        \"\"\"\n",
        "        Forward pass of your defined branch above\n",
        "        \"\"\"\n",
        "        ### Your code here ### DONE\n",
        "        x = self.conv1(graph, x)\n",
        "        x = self.relu(x)\n",
        "        x = self.dropout(x)\n",
        "        x = self.conv2(graph, x)\n",
        "        # x = self.relu(x)\n",
        "        # x = self.dropout2(x)\n",
        "        # x = self.conv3(graph, x)\n",
        "        return x\n",
        "\n",
        "class GCN(nn.Module):\n",
        "    \"\"\"\n",
        "    A graph convolution network with multiple graph convolution branches\n",
        "    \"\"\"\n",
        "    def __init__(self, n_head=4, dropout=0.3):\n",
        "        super().__init__()\n",
        "        self.branches = nn.ModuleList(GCNBranch(n_hid, n_hid // n_head, dropout) for _ in range(n_head))\n",
        "\n",
        "        self.feed_forward = nn.Sequential(\n",
        "            nn.Linear(n_hid, n_hid),\n",
        "            nn.ReLU(inplace=True),\n",
        "            nn.Dropout(dropout),\n",
        "            nn.Linear(n_hid, n_hid)\n",
        "        )\n",
        "        self.layer_norm = nn.LayerNorm(n_hid)\n",
        "\n",
        "    def forward(self, h, gt_graph, attr_graph):\n",
        "        x = h.reshape(-1, n_hid)\n",
        "        graphs = [gt_graph, gt_graph, attr_graph, attr_graph]\n",
        "        x = torch.cat([branch(x, g) for branch, g in zip(self.branches, graphs)], dim=-1).view_as(h)\n",
        "        x = h + self.layer_norm(x)\n",
        "        return x + self.feed_forward(x)\n",
        "\n",
        "class Gate(nn.Module):\n",
        "    \"\"\"\n",
        "    Activation gate used a few times in the TreeDecoder\n",
        "    \"\"\"\n",
        "    def __init__(self, n_in, n_out):\n",
        "        super(Gate, self).__init__()\n",
        "        self.t = nn.Linear(n_in, n_out)\n",
        "        self.s = nn.Linear(n_in, n_out)\n",
        "\n",
        "    def forward(self, x):\n",
        "        return self.t(x).tanh() * self.s(x).sigmoid()\n",
        "\n",
        "class TreeDecoder(nn.Module):\n",
        "    \"\"\"\n",
        "    Defines parameters and methods for decoding into an expression. Used in train and predict\n",
        "    \"\"\"\n",
        "    def __init__(self, dropout=0.5):\n",
        "        super().__init__()\n",
        "        drop = nn.Dropout(dropout)\n",
        "        self.constant_embedding = nn.Parameter(torch.randn(1, out_vocab.n_constants, n_hid))\n",
        "\n",
        "        self.qp_gate = nn.Sequential(drop, Gate(n_hid, n_hid))\n",
        "        self.gts_right = nn.Sequential(drop, Gate(2 * n_hid, n_hid))\n",
        "\n",
        "        self.attn_fc = nn.Sequential(drop,\n",
        "            nn.Linear(2 * n_hid, n_hid),\n",
        "            nn.Tanh(),\n",
        "            nn.Linear(n_hid, 1)\n",
        "        )\n",
        "        self.quant_fc = nn.Sequential(drop,\n",
        "            nn.Linear(n_hid * 3, n_hid),\n",
        "            nn.Tanh(),\n",
        "            nn.Linear(n_hid, 1, bias=False)\n",
        "        )\n",
        "        self.op_fc = nn.Sequential(drop, nn.Linear(n_hid * 2, out_vocab.n_ops))\n",
        "\n",
        "        self.op_embedding = nn.Embedding(out_vocab.n_ops + 1, n_hid, padding_idx=out_vocab.n_ops)\n",
        "        self.gts_left = nn.Sequential(drop, Gate(n_hid * 2 + n_hid, n_hid))\n",
        "        self.gts_left_qp = nn.Sequential(drop, Gate(n_hid * 2 + n_hid, n_hid), self.qp_gate)\n",
        "\n",
        "        self.subtree_gate = nn.Sequential(drop, Gate(n_hid * 2 + n_hid, n_hid))\n",
        "\n",
        "    def gts_attention(self, q, zbar, in_mask=None):\n",
        "        \"\"\"\n",
        "        Corresponds roughly to the GTS-Attention function defined by the paper\n",
        "        \"\"\"\n",
        "        attn_score = self.attn_fc(\n",
        "            torch.cat([q.unsqueeze(1).expand_as(zbar), zbar], dim=2)\n",
        "        ).squeeze(2)\n",
        "        if in_mask is not None:\n",
        "            attn_score[~in_mask] = -np.inf\n",
        "        attn = attn_score.softmax(dim=1)\n",
        "        return (attn.unsqueeze(1) @ zbar).squeeze(1) # (n_batch, n_hid)\n",
        "\n",
        "    def gts_predict(self, qp_Gc, quant_embed, nP_out_mask=None):\n",
        "        \"\"\"\n",
        "        Corresponds roughly to the GTS-Predict functions defined by the paper\n",
        "        \"\"\"\n",
        "        quant_score = self.quant_fc(\n",
        "            torch.cat([qp_Gc.unsqueeze(1).expand(-1, quant_embed.size(1), -1), quant_embed], dim=2)\n",
        "        ).squeeze(2)\n",
        "        op_score = self.op_fc(qp_Gc)\n",
        "        pred_score = torch.cat((op_score, quant_score), dim=1)\n",
        "        if nP_out_mask is not None:\n",
        "            pred_score[:, out_vocab.base_nP:][~nP_out_mask] = -np.inf\n",
        "        return pred_score\n",
        "\n",
        "    def merge_subtree(self, op, tl, yr):\n",
        "        \"\"\"\n",
        "        Corresponds to part of the GTS-Subtree function defined by the paper\n",
        "        \"\"\"\n",
        "        return self.subtree_gate(torch.cat((op, tl, yr), dim=-1))\n",
        "\n",
        "class Model(nn.Module):\n",
        "    \"\"\"\n",
        "    Overall model containing all the neural network parameters and methods\n",
        "    1. The base seq2seq model is in self.transformer_layers if use_t5=None else self.t5_encoder\n",
        "    2. The graph convolution network is in self.gcn\n",
        "    3. The tree decoder is in self.decoder\n",
        "    \"\"\"\n",
        "    def __init__(self, dropout=0.5):\n",
        "        super().__init__()\n",
        "        drop = nn.Dropout(dropout)\n",
        "\n",
        "        if use_t5:\n",
        "            \"\"\"\n",
        "            Use t5_model.encoder as the encoder for this model. Note that unlike the custom transformer, you don't\n",
        "            need to use an external input or positional embedding for the T5 transformer \n",
        "            (i.e. don't define self.in_embed or self.pos_emb) since it already defines them internally\n",
        "            \n",
        "            You may specify layer weights to freeze during finetuning by modifying the freeze_layers global variable\n",
        "            \"\"\"\n",
        "            ### Your code here ###\n",
        "            self.t5_encoder = AutoModelWithLMHead.from_pretrained(f\"t5-{use_t5}\").encoder\n",
        "            \n",
        "            for i_layer, block in enumerate(self.t5_encoder.block):\n",
        "                if i_layer in freeze_layers:\n",
        "                    for param in block.parameters():\n",
        "                        param.requires_grad = False\n",
        "        else:\n",
        "            # Input embedding for custom transformer\n",
        "            self.in_embed = nn.Sequential(nn.Embedding(in_vocab.n, n_hid, padding_idx=in_vocab.pad), drop)\n",
        "            # Positional embedding for custom transformer\n",
        "            self.pos_embed = nn.Embedding(1 + n_max_in, n_hid) # Use the first position as global vector\n",
        "            self.transformer_layers = nn.ModuleList(TransformerBlock() for _ in range(n_layers))\n",
        "\n",
        "        self.gcn = GCN()\n",
        "\n",
        "        self.decoder = TreeDecoder()\n",
        "\n",
        "        if not use_t5:\n",
        "            self.apply(self.init_weight)\n",
        "\n",
        "    def init_weight(self, m):\n",
        "        if type(m) in [nn.Embedding]:\n",
        "            nn.init.normal_(m.weight, 0, 0.1)\n",
        "\n",
        "    def encode(self, in_idxs, n_in, gt_graph, attr_graph, in_mask=None):\n",
        "        in_idxs_pad = F.pad(in_idxs, (1, 0), value=in_vocab.pad)\n",
        "        if use_t5:\n",
        "            \"\"\"\n",
        "            Use your T5 encoder to encode the input indices. Note that you do NOT need to use an input embedding or\n",
        "            positional embedding (e.g. self.in_embed or self.pos_embed) for T5, since it already defines\n",
        "            the embeddings internally\n",
        "            \"\"\"\n",
        "            ### Your code here ###\n",
        "            h = self.t5_encoder(in_idxs_pad)[0]\n",
        "\n",
        "        else:\n",
        "            x = self.in_embed(in_idxs_pad) # (n_batch, n_batch_max_in, n_hid)\n",
        "            h = x + self.pos_embed(torch.arange(x.size(1), device=x.device))\n",
        "            for layer in self.transformer_layers:\n",
        "                h = layer(h, mask=in_mask)\n",
        "        zg, h = h[:, 0], h[:, 1:]\n",
        "\n",
        "        zbar = self.gcn(h, gt_graph, attr_graph)\n",
        "        return zbar, zg"
      ],
      "execution_count": 25,
      "outputs": []
    },
    {
      "cell_type": "markdown",
      "metadata": {
        "id": "JKe-2BoSSuim"
      },
      "source": [
        "# Training a Batch"
      ]
    },
    {
      "cell_type": "code",
      "metadata": {
        "ExecuteTime": {
          "end_time": "2020-10-31T01:05:20.470291Z",
          "start_time": "2020-10-31T01:05:20.134317Z"
        },
        "id": "6boIKddJSuim"
      },
      "source": [
        "class Node:\n",
        "    \"\"\"\n",
        "    Node for tree traversal during training\n",
        "    \"\"\"\n",
        "    def __init__(self, up):\n",
        "        self.up = up\n",
        "        self.is_root = up is None\n",
        "        self.left = self.right = None\n",
        "        self.ql = self.tl = self.op = None\n",
        "\n",
        "def train(batch, model, opt):\n",
        "    \"\"\"\n",
        "    Compute the loss on a batch of inputs, and take a step with the optimizer\n",
        "    \"\"\"\n",
        "    n_batch = len(batch)\n",
        "\n",
        "    n_in = [d['n_in'] for d in batch]\n",
        "    pad = lambda x, value: nn.utils.rnn.pad_sequence(x, batch_first=True, padding_value=value)\n",
        "    in_idxs = pad([d['in_idxs'] for d in batch], in_vocab.pad).to(device)\n",
        "    in_mask = pad([torch.ones(n, dtype=torch.bool) for n in n_in], False).to(device)\n",
        "    nP_in_mask = pad([d['nP_in_mask'] for d in batch], False).to(device)\n",
        "    nP_out_mask = torch.stack([d['nP_out_mask'] for d in batch]).to(device)\n",
        "    \n",
        "    qcomp_graph, qcell_graph = [], []\n",
        "    for d in batch:\n",
        "        \"\"\"\n",
        "        Create qcomp_graph and qcell_graph from d['qcomp_edges'] and d['qcell_edges'] by calling dgl.graph\n",
        "        (see https://docs.dgl.ai/generated/dgl.graph.html)\n",
        "\n",
        "        Note that num_nodes needs to be set to the maximum input length in this batch\n",
        "        \"\"\"\n",
        "        ### Your code here ### DONE\n",
        "        qcomp_graph_i = dgl.graph(d['qcomp_edges'], num_nodes=max(n_in)).to(device)\n",
        "        qcell_graph_i = dgl.graph(d['qcell_edges'], num_nodes=max(n_in)).to(device)\n",
        "        \n",
        "        qcomp_graph.append(qcomp_graph_i)\n",
        "        qcell_graph.append(qcell_graph_i)\n",
        "    qcomp_graph = dgl.batch(qcomp_graph)\n",
        "    qcell_graph = dgl.batch(qcell_graph)\n",
        "    \n",
        "    label = pad([d['out_idxs'] for d in batch], out_vocab.pad)\n",
        "    nP_candidates = [d['nP_candidates'] for d in batch]\n",
        "\n",
        "    zbar, qroot = model.encode(in_idxs, n_in, qcomp_graph, qcell_graph, in_mask=None)\n",
        "    z_nP = zbar.new_zeros((n_batch, n_max_nP, n_hid))\n",
        "    z_nP[nP_out_mask] = zbar[nP_in_mask]\n",
        "\n",
        "    decoder = model.decoder\n",
        "\n",
        "    n_quant = out_vocab.n_constants + n_max_nP\n",
        "    quant_embed = torch.cat([decoder.constant_embedding.expand(n_batch, -1, -1), z_nP], dim=1) # (n_batch, n_quant, n_hid)\n",
        "\n",
        "    nodes = np.array([Node(None) for _ in range(n_batch)])\n",
        "    op_min, op_max = out_vocab.base_op, out_vocab.base_op + out_vocab.n_ops\n",
        "    quant_min, quant_max = out_vocab.base_quant, out_vocab.base_quant + n_quant\n",
        "\n",
        "    # Initialize root node vector according to zg (the global context)\n",
        "    qp = decoder.qp_gate(qroot)\n",
        "    scores = []\n",
        "    for i, label_i in enumerate(label.T): # Iterate over the output positions\n",
        "        Gc = decoder.gts_attention(qp, zbar, in_mask)\n",
        "        qp_Gc = torch.cat([qp, Gc], dim=1) # (n_batch, 2 * n_hid)\n",
        "\n",
        "        score = decoder.gts_predict(qp_Gc, quant_embed, nP_out_mask)\n",
        "        scores.append(score)\n",
        "\n",
        "        # Whether the label is an operator\n",
        "        is_op = (op_min <= label_i) & (label_i < op_max)\n",
        "        # Whether the label is a quantity\n",
        "        is_quant = ((quant_min <= label_i) & (label_i < quant_max)) | (label_i == out_vocab.unk)\n",
        "\n",
        "        op_embed = decoder.op_embedding((label_i[is_op] - out_vocab.base_op).to(device))\n",
        "        qp_Gc_op = torch.cat([qp_Gc[is_op], op_embed], dim=1)\n",
        "\n",
        "        is_left = np.zeros(n_batch, dtype=np.bool)\n",
        "        qleft_qp = decoder.gts_left_qp(qp_Gc_op)\n",
        "        qleft = decoder.gts_left(qp_Gc_op)\n",
        "        for j, ql, op in zip(is_op.nonzero(as_tuple=True)[0], qleft, op_embed):\n",
        "            node = nodes[j]\n",
        "            nodes[j] = node.left = Node(node)\n",
        "            node.op = op\n",
        "            node.ql = ql\n",
        "            is_left[j] = True\n",
        "\n",
        "        is_right = np.zeros(n_batch, dtype=np.bool)\n",
        "        nP_score = score[:, out_vocab.base_nP:].detach().cpu()\n",
        "        ql_tl = []\n",
        "        for j in is_quant.nonzero(as_tuple=True)[0]:\n",
        "            if label_i[j] == out_vocab.unk:\n",
        "                candidates = nP_candidates[j][i]\n",
        "                label_i[j] = out_vocab.base_nP + candidates[nP_score[j, candidates].argmax()]\n",
        "\n",
        "            node = nodes[j]\n",
        "            pnode = node.up\n",
        "            t = quant_embed[j, label_i[j] - out_vocab.base_quant]\n",
        "            while pnode and pnode.right is node:\n",
        "                t = decoder.merge_subtree(pnode.op, pnode.tl, t) # merge operator, left subtree, and right child\n",
        "                node, pnode = pnode, pnode.up # backtrack to parent node\n",
        "            if pnode is None: # Finished traversing tree of j\n",
        "                continue\n",
        "            # Now pnode.left is node. t is the tl representing the left subtree of pnode\n",
        "            pnode.tl = t\n",
        "            ql_tl.append(torch.cat([pnode.ql, pnode.tl])) # For computing qright\n",
        "            nodes[j] = pnode.right = Node(pnode)\n",
        "            is_right[j] = True\n",
        "\n",
        "        qp = torch.zeros((n_batch, n_hid), device=device)\n",
        "        qp[is_left] = qleft_qp\n",
        "        if ql_tl:\n",
        "            qp[is_right] = decoder.gts_right(torch.stack(ql_tl))\n",
        "\n",
        "    label = label.to(device).view(-1)\n",
        "    scores = torch.stack(scores, dim=1).view(-1, out_vocab.n_ops + n_quant)\n",
        "    loss = F.cross_entropy(scores, label, ignore_index=out_vocab.pad)\n",
        "\n",
        "    opt.zero_grad()\n",
        "    loss.backward()\n",
        "    opt.step()\n",
        "    return loss.item()"
      ],
      "execution_count": 26,
      "outputs": []
    },
    {
      "cell_type": "markdown",
      "metadata": {
        "id": "Ij9MP3SESuio"
      },
      "source": [
        "# Prediction (for Evaluation)"
      ]
    },
    {
      "cell_type": "code",
      "metadata": {
        "ExecuteTime": {
          "end_time": "2020-10-31T01:05:20.735118Z",
          "start_time": "2020-10-31T01:05:20.473699Z"
        },
        "id": "Zu8uwxRKSuio"
      },
      "source": [
        "class BeamNode(Node):\n",
        "    \"\"\"\n",
        "    Node for beam search during evaluation\n",
        "    \"\"\"\n",
        "    def __init__(self, up, prev, qp, token=None):\n",
        "        super().__init__(up)\n",
        "        self.prev = prev\n",
        "        self.qp = qp\n",
        "        self.token = token\n",
        "\n",
        "    def trace_tokens(self, *last_token):\n",
        "        if self.prev is None:\n",
        "            return list(last_token)\n",
        "        tokens = self.prev.trace_tokens()\n",
        "        tokens.append(self.token)\n",
        "        tokens.extend(last_token)\n",
        "        return tokens\n",
        "\n",
        "def predict(d, model, beam_size=5, n_max_out=45):\n",
        "    \"\"\"\n",
        "    Predict the idxs corresponding to an expression given the inputs. Leverages beam search to maximize\n",
        "    prediction probability\n",
        "    \"\"\"\n",
        "    in_idxs = d['in_idxs'].unsqueeze(0).to(device=device)\n",
        "    \"\"\"\n",
        "    Create qcomp_graph and qcell_graph from d['qcomp_edges'] and d['qcell_edges'] by calling dgl.graph\n",
        "    (see https://docs.dgl.ai/generated/dgl.graph.html)\n",
        "    \"\"\"\n",
        "    ### Your code here ### DONE\n",
        "    qcomp_graph = dgl.graph(d['qcomp_edges']).to(device)\n",
        "    qcell_graph = dgl.graph(d['qcell_edges']).to(device)\n",
        "\n",
        "    zbar, qroot = model.encode(in_idxs, [d['n_in']], qcomp_graph, qcell_graph)\n",
        "    z_nP = zbar[:, d['nP_positions']]\n",
        "\n",
        "    decoder = model.decoder\n",
        "\n",
        "    quant_embed = torch.cat([decoder.constant_embedding, z_nP], dim=1) # (1, n_quant, n_hid)\n",
        "    op_min, op_max = out_vocab.base_op, out_vocab.base_op + out_vocab.n_ops\n",
        "\n",
        "    best_done_beam = (-np.inf, None, None)\n",
        "    beams = [(0, BeamNode(up=None, prev=None, qp=decoder.qp_gate(qroot)))]\n",
        "    for _ in range(n_max_out):\n",
        "        new_beams = []\n",
        "        for logp_prev, node in beams:\n",
        "            Gc = decoder.gts_attention(node.qp, zbar)\n",
        "            qp_Gc = torch.cat([node.qp, Gc], dim=1) # (2 * n_hid,)\n",
        "\n",
        "            log_prob = decoder.gts_predict(qp_Gc, quant_embed).log_softmax(dim=1)\n",
        "            top_logps, top_tokens = log_prob.topk(beam_size, dim=1)\n",
        "            for logp_token_, out_token_ in zip(top_logps.unbind(dim=1), top_tokens.unbind(dim=1)):\n",
        "                out_token = out_token_.item()\n",
        "                logp = logp_prev + logp_token_.item()\n",
        "                if op_min <= out_token < op_max:\n",
        "                    op_embed = decoder.op_embedding(out_token_)\n",
        "                    qp_Gc_op = torch.cat([qp_Gc, op_embed], dim=1)\n",
        "                    prev_node = copy(node)\n",
        "                    next_node = prev_node.left = BeamNode(\n",
        "                        up=prev_node, prev=prev_node,\n",
        "                        qp=decoder.gts_left_qp(qp_Gc_op),\n",
        "                        token=out_token\n",
        "                    )\n",
        "                    prev_node.op = op_embed\n",
        "                    prev_node.ql = decoder.gts_left(qp_Gc_op)\n",
        "                else:\n",
        "                    pnode, prev_node = node.up, node\n",
        "                    t = quant_embed[:, out_token - out_vocab.base_quant]\n",
        "                    while pnode and pnode.tl is not None:\n",
        "                        t = decoder.merge_subtree(pnode.op, pnode.tl, t)\n",
        "                        node, pnode = pnode, pnode.up\n",
        "                    if pnode is None:\n",
        "                        best_done_beam = max(best_done_beam, (logp, prev_node, out_token))\n",
        "                        continue\n",
        "                    pnode = copy(pnode)\n",
        "                    pnode.tl = t\n",
        "                    next_node = pnode.right = BeamNode(\n",
        "                        up=pnode, prev=prev_node,\n",
        "                        qp=decoder.gts_right(torch.cat([pnode.ql, pnode.tl], dim=1)),\n",
        "                        token=out_token\n",
        "                    )\n",
        "                new_beams.append((logp, next_node))\n",
        "        beams = sorted(new_beams, key=lambda x: x[0], reverse=True)[:beam_size]\n",
        "        done_logp, done_node, done_last_token = best_done_beam\n",
        "        if not len(beams) or done_logp >= beams[0][0]:\n",
        "            break\n",
        "    return done_node.trace_tokens(done_last_token)"
      ],
      "execution_count": 27,
      "outputs": []
    },
    {
      "cell_type": "markdown",
      "metadata": {
        "id": "eTaGfD7nSuiq"
      },
      "source": [
        "# Training Loop\n",
        "\n",
        "We provide the training loop below. When you change the hyperparameters, make sure you keep track of which hyperparameters you were using, because you'll need those parameters again during prediction (see next section). Note that if you make multiple runs with the same `use_t5` value, the saved models will be overwritten, so make sure to copy your the `model_save_dir` somewhere else if you want to save it."
      ]
    },
    {
      "cell_type": "code",
      "metadata": {
        "ExecuteTime": {
          "end_time": "2020-10-31T01:01:49.300495Z",
          "start_time": "2020-10-31T00:37:45.465278Z"
        },
        "scrolled": false,
        "id": "tJ3uo-K1Suir",
        "colab": {
          "base_uri": "https://localhost:8080/"
        },
        "outputId": "b991cd8d-bc72-41f8-fc43-4c99e1f6cdfb"
      },
      "source": [
        "use_t5 = 'small' # Value should be None, 'small', or 'base'\n",
        "model_save_dir = f'{root_dir}/new_models/{use_t5 or \"custom\"}'\n",
        "os.makedirs(model_save_dir, exist_ok=True)\n",
        "\n",
        "# IMPORTANT NOTE: if you change some of these hyperparameters during training,\n",
        "# you will also need to change them during prediction (see next section)\n",
        "n_max_in = 100\n",
        "n_epochs = 100\n",
        "n_batch = 64\n",
        "learning_rate = 1e-3\n",
        "if use_t5:\n",
        "    # T5 hyperparameters\n",
        "    freeze_layers = []\n",
        "    weight_decay = 1e-5\n",
        "    n_hid = dict(small=512, base=768)[use_t5] # Do not modify unless you want to try t5-large\n",
        "else:\n",
        "    # Custom transformer hyperparameters\n",
        "    n_layers = 3\n",
        "    n_hid = 512\n",
        "    n_k = n_v = 64\n",
        "    n_head = 8\n",
        "    weight_decay = 0\n",
        "device = 'cuda:0'\n",
        "\n",
        "train_data, val_data, in_vocab, out_vocab, n_max_nP, t5_model = setup(use_t5)\n",
        "tensorize_data(itertools.chain(train_data, val_data))\n",
        "\n",
        "model = Model()\n",
        "opt = torch.optim.Adam(model.parameters(), lr=learning_rate, weight_decay=weight_decay)\n",
        "scheduler = torch.optim.lr_scheduler.CosineAnnealingLR(opt, n_epochs)\n",
        "model.to(device)\n",
        "\n",
        "epoch = 0\n",
        "while epoch < n_epochs:\n",
        "    print('Epoch:', epoch + 1)\n",
        "    model.train()\n",
        "    losses = []\n",
        "    for start in trange(0, len(train_data), n_batch):\n",
        "        batch = sorted(train_data[start: start + n_batch], key=lambda d: -d['n_in'])\n",
        "        loss = train(batch, model, opt)\n",
        "        losses.append(loss)\n",
        "    scheduler.step()\n",
        "\n",
        "    print(f'Training loss: {np.mean(losses):.3g}')\n",
        "\n",
        "    epoch += 1\n",
        "    if epoch % 10 == 0:\n",
        "        model.eval()\n",
        "        value_match, equation_match = [], []\n",
        "        with torch.no_grad():\n",
        "            for d in tqdm(val_data):\n",
        "                if d['is_quadratic']: # This method is not equiped to handle equations with quadratics\n",
        "                    val_match = eq_match = False\n",
        "                else:\n",
        "                    pred = predict(d, model)\n",
        "                    d['pred_tokens'] = [out_vocab.idx2token[idx] for idx in pred]\n",
        "                    val_match, eq_match = check_match(pred, d)\n",
        "                value_match.append(val_match)\n",
        "                equation_match.append(eq_match)\n",
        "        print(f'Validation expression accuracy: {np.mean(equation_match):.3g}')\n",
        "        print(f'Validation value accuracy: {np.mean(value_match):.3g}')\n",
        "        # We save the model every 10 epochs, feel free to load in a trained model with\n",
        "        # model.load_state_dict(torch.load(f'models/model-{epoch}.pth'))\n",
        "        # Note: if you want to restart training from a saved model, you must also save and load the optimizer with\n",
        "        # torch.save(opt.state_dict(), os.path.join(model_save_dir, f'opt-{epoch}.pth'))\n",
        "torch.save(model.state_dict(), os.path.join(model_save_dir, f'model-{epoch}.pth'))\n",
        "print(\"saved model\")\n",
        "print()"
      ],
      "execution_count": 28,
      "outputs": [
        {
          "output_type": "stream",
          "text": [
            "Some weights of T5Model were not initialized from the model checkpoint at t5-small and are newly initialized: ['encoder.embed_tokens.weight', 'decoder.embed_tokens.weight']\n",
            "You should probably TRAIN this model on a down-stream task to be able to use it for predictions and inference.\n",
            "/usr/local/lib/python3.6/dist-packages/transformers/modeling_auto.py:837: FutureWarning: The class `AutoModelWithLMHead` is deprecated and will be removed in a future version. Please use `AutoModelForCausalLM` for causal language models, `AutoModelForMaskedLM` for masked language models and `AutoModelForSeq2SeqLM` for encoder-decoder models.\n",
            "  FutureWarning,\n",
            "  0%|          | 0/10 [00:00<?, ?it/s]"
          ],
          "name": "stderr"
        },
        {
          "output_type": "stream",
          "text": [
            "Epoch: 1\n"
          ],
          "name": "stdout"
        },
        {
          "output_type": "stream",
          "text": [
            "100%|██████████| 10/10 [00:06<00:00,  1.53it/s]\n",
            "  0%|          | 0/10 [00:00<?, ?it/s]"
          ],
          "name": "stderr"
        },
        {
          "output_type": "stream",
          "text": [
            "Training loss: 2.32\n",
            "Epoch: 2\n"
          ],
          "name": "stdout"
        },
        {
          "output_type": "stream",
          "text": [
            "100%|██████████| 10/10 [00:06<00:00,  1.55it/s]\n",
            "  0%|          | 0/10 [00:00<?, ?it/s]"
          ],
          "name": "stderr"
        },
        {
          "output_type": "stream",
          "text": [
            "Training loss: 1.47\n",
            "Epoch: 3\n"
          ],
          "name": "stdout"
        },
        {
          "output_type": "stream",
          "text": [
            "100%|██████████| 10/10 [00:06<00:00,  1.55it/s]\n",
            "  0%|          | 0/10 [00:00<?, ?it/s]"
          ],
          "name": "stderr"
        },
        {
          "output_type": "stream",
          "text": [
            "Training loss: 1.25\n",
            "Epoch: 4\n"
          ],
          "name": "stdout"
        },
        {
          "output_type": "stream",
          "text": [
            "100%|██████████| 10/10 [00:06<00:00,  1.54it/s]\n",
            "  0%|          | 0/10 [00:00<?, ?it/s]"
          ],
          "name": "stderr"
        },
        {
          "output_type": "stream",
          "text": [
            "Training loss: 1.08\n",
            "Epoch: 5\n"
          ],
          "name": "stdout"
        },
        {
          "output_type": "stream",
          "text": [
            "100%|██████████| 10/10 [00:06<00:00,  1.47it/s]\n",
            "  0%|          | 0/10 [00:00<?, ?it/s]"
          ],
          "name": "stderr"
        },
        {
          "output_type": "stream",
          "text": [
            "Training loss: 0.944\n",
            "Epoch: 6\n"
          ],
          "name": "stdout"
        },
        {
          "output_type": "stream",
          "text": [
            "100%|██████████| 10/10 [00:06<00:00,  1.54it/s]\n",
            "  0%|          | 0/10 [00:00<?, ?it/s]"
          ],
          "name": "stderr"
        },
        {
          "output_type": "stream",
          "text": [
            "Training loss: 0.831\n",
            "Epoch: 7\n"
          ],
          "name": "stdout"
        },
        {
          "output_type": "stream",
          "text": [
            "100%|██████████| 10/10 [00:06<00:00,  1.53it/s]\n",
            "  0%|          | 0/10 [00:00<?, ?it/s]"
          ],
          "name": "stderr"
        },
        {
          "output_type": "stream",
          "text": [
            "Training loss: 0.681\n",
            "Epoch: 8\n"
          ],
          "name": "stdout"
        },
        {
          "output_type": "stream",
          "text": [
            "100%|██████████| 10/10 [00:06<00:00,  1.54it/s]\n",
            "  0%|          | 0/10 [00:00<?, ?it/s]"
          ],
          "name": "stderr"
        },
        {
          "output_type": "stream",
          "text": [
            "Training loss: 0.544\n",
            "Epoch: 9\n"
          ],
          "name": "stdout"
        },
        {
          "output_type": "stream",
          "text": [
            "100%|██████████| 10/10 [00:06<00:00,  1.53it/s]\n",
            "  0%|          | 0/10 [00:00<?, ?it/s]"
          ],
          "name": "stderr"
        },
        {
          "output_type": "stream",
          "text": [
            "Training loss: 0.455\n",
            "Epoch: 10\n"
          ],
          "name": "stdout"
        },
        {
          "output_type": "stream",
          "text": [
            "100%|██████████| 10/10 [00:06<00:00,  1.54it/s]\n",
            "  1%|▏         | 1/68 [00:00<00:12,  5.21it/s]"
          ],
          "name": "stderr"
        },
        {
          "output_type": "stream",
          "text": [
            "Training loss: 0.405\n"
          ],
          "name": "stdout"
        },
        {
          "output_type": "stream",
          "text": [
            " 10%|█         | 7/68 [00:02<00:24,  2.46it/s]"
          ],
          "name": "stderr"
        },
        {
          "output_type": "stream",
          "text": [
            "Malformed expression ['*', '-', '+', '-', '*', '7', '9.4', '6', '-', '+', '-', '*', '7', '9.4', '6']\n",
            "Malformed expression ['*', '-', '+', '-', '*', '7', '9.4', '6', '-', '+', '-', '*', '7', '9.4', '6']\n",
            "Malformed expression ['*', '-', '+', '-', '*', '7', '9.4', '6', '-', '+', '-', '*', '7', '9.4', '6']\n",
            "Malformed expression ['*', '-', '+', '-', '*', '7', '9.4', '6', '-', '+', '-', '*', '7', '9.4', '6']\n"
          ],
          "name": "stdout"
        },
        {
          "output_type": "stream",
          "text": [
            " 13%|█▎        | 9/68 [00:02<00:18,  3.24it/s]"
          ],
          "name": "stderr"
        },
        {
          "output_type": "stream",
          "text": [
            "Malformed expression ['*', '+', '-', '*', '7', '9.4', '8', '+', '-', '*', '7', '9.4', '8']\n",
            "Malformed expression ['*', '+', '-', '*', '7', '9.4', '8', '+', '-', '*', '7', '9.4', '8']\n"
          ],
          "name": "stdout"
        },
        {
          "output_type": "stream",
          "text": [
            " 21%|██        | 14/68 [00:04<00:15,  3.38it/s]"
          ],
          "name": "stderr"
        },
        {
          "output_type": "stream",
          "text": [
            "Malformed expression ['-', '-', '6', '*', '*', '*', '0.1', '2', '7', '+', '-', '*', '7', '6', '8']\n",
            "Malformed expression ['-', '-', '6', '*', '*', '*', '0.1', '2', '7', '+', '-', '*', '7', '6', '8']\n"
          ],
          "name": "stdout"
        },
        {
          "output_type": "stream",
          "text": [
            "\r 22%|██▏       | 15/68 [00:04<00:14,  3.67it/s]"
          ],
          "name": "stderr"
        },
        {
          "output_type": "stream",
          "text": [
            "Malformed expression ['+', '+', '-', '*', '1', '1', '*', '1', '0', '0']\n"
          ],
          "name": "stdout"
        },
        {
          "output_type": "stream",
          "text": [
            " 29%|██▉       | 20/68 [00:06<00:14,  3.42it/s]"
          ],
          "name": "stderr"
        },
        {
          "output_type": "stream",
          "text": [
            "Malformed expression ['-', '9.4', '*', '*', '*', '0.1', '2', '4', '-', '+', '*', '4', '9.4', '5']\n"
          ],
          "name": "stdout"
        },
        {
          "output_type": "stream",
          "text": [
            " 41%|████      | 28/68 [00:08<00:11,  3.56it/s]"
          ],
          "name": "stderr"
        },
        {
          "output_type": "stream",
          "text": [
            "Malformed expression ['+', '+', '-', '-', '*', '1', '1', '*', '0', '0', '3']\n",
            "Malformed expression ['+', '+', '-', '-', '*', '1', '1', '*', '0', '0', '3']\n"
          ],
          "name": "stdout"
        },
        {
          "output_type": "stream",
          "text": [
            "\r 43%|████▎     | 29/68 [00:09<00:14,  2.74it/s]"
          ],
          "name": "stderr"
        },
        {
          "output_type": "stream",
          "text": [
            "Malformed expression ['-', '+', '+', '-', '*', '0', '1', '*', '1', '0', '6']\n",
            "Malformed expression ['-', '+', '+', '-', '*', '0', '1', '*', '1', '0', '6']\n"
          ],
          "name": "stdout"
        },
        {
          "output_type": "stream",
          "text": [
            " 46%|████▌     | 31/68 [00:10<00:13,  2.69it/s]"
          ],
          "name": "stderr"
        },
        {
          "output_type": "stream",
          "text": [
            "Malformed expression ['-', '-', '6', '*', '*', '*', '0.1', '2', '10', '-', '+', '-', '*', '10', '6', '5']\n",
            "Malformed expression ['-', '-', '6', '*', '*', '*', '0.1', '2', '10', '-', '+', '-', '*', '10', '6', '5']\n",
            "Malformed expression ['-', '-', '6', '*', '*', '*', '0.1', '2', '10', '-', '+', '-', '*', '10', '6', '5']\n"
          ],
          "name": "stdout"
        },
        {
          "output_type": "stream",
          "text": [
            " 53%|█████▎    | 36/68 [00:11<00:10,  3.12it/s]"
          ],
          "name": "stderr"
        },
        {
          "output_type": "stream",
          "text": [
            "Malformed expression ['-', '-', '6', '*', '*', '*', '0.1', '2', '0.3', '+', '-', '*', '0.3', '6', '6']\n",
            "Malformed expression ['-', '-', '6', '*', '*', '*', '0.1', '2', '0.3', '+', '-', '*', '0.3', '6', '6']\n"
          ],
          "name": "stdout"
        },
        {
          "output_type": "stream",
          "text": [
            " 59%|█████▉    | 40/68 [00:13<00:09,  3.08it/s]"
          ],
          "name": "stderr"
        },
        {
          "output_type": "stream",
          "text": [
            "Malformed expression ['-', '+', '+', '*', '1', '2', '*', '1', '1', '6']\n"
          ],
          "name": "stdout"
        },
        {
          "output_type": "stream",
          "text": [
            "\r 60%|██████    | 41/68 [00:13<00:07,  3.39it/s]"
          ],
          "name": "stderr"
        },
        {
          "output_type": "stream",
          "text": [
            "Malformed expression ['+', '+', '-', '*', '1', '0', '*', '0', '1', '0.25']\n"
          ],
          "name": "stdout"
        },
        {
          "output_type": "stream",
          "text": [
            " 75%|███████▌  | 51/68 [00:15<00:03,  4.49it/s]"
          ],
          "name": "stderr"
        },
        {
          "output_type": "stream",
          "text": [
            "Malformed expression ['+', '+', '-', '*', '1', '3', '*', '0', '4', '0.25']\n"
          ],
          "name": "stdout"
        },
        {
          "output_type": "stream",
          "text": [
            "\r 76%|███████▋  | 52/68 [00:16<00:04,  3.36it/s]"
          ],
          "name": "stderr"
        },
        {
          "output_type": "stream",
          "text": [
            "Malformed expression ['-', '+', '+', '-', '*', '1', '4', '*', '0', '5', '6']\n",
            "Malformed expression ['-', '+', '+', '-', '*', '1', '4', '*', '0', '5', '6']\n"
          ],
          "name": "stdout"
        },
        {
          "output_type": "stream",
          "text": [
            " 87%|████████▋ | 59/68 [00:18<00:02,  3.43it/s]"
          ],
          "name": "stderr"
        },
        {
          "output_type": "stream",
          "text": [
            "Malformed expression ['-', '15.4', '*', '*', '*', '0.1', '2', '7', '-', '+', '*', '7', '15.4', '5']\n"
          ],
          "name": "stdout"
        },
        {
          "output_type": "stream",
          "text": [
            "100%|██████████| 68/68 [00:20<00:00,  3.29it/s]\n",
            "  0%|          | 0/10 [00:00<?, ?it/s]"
          ],
          "name": "stderr"
        },
        {
          "output_type": "stream",
          "text": [
            "Validation expression accuracy: 0.324\n",
            "Validation value accuracy: 0.559\n",
            "Epoch: 11\n"
          ],
          "name": "stdout"
        },
        {
          "output_type": "stream",
          "text": [
            "100%|██████████| 10/10 [00:06<00:00,  1.49it/s]\n",
            "  0%|          | 0/10 [00:00<?, ?it/s]"
          ],
          "name": "stderr"
        },
        {
          "output_type": "stream",
          "text": [
            "Training loss: 0.347\n",
            "Epoch: 12\n"
          ],
          "name": "stdout"
        },
        {
          "output_type": "stream",
          "text": [
            "100%|██████████| 10/10 [00:06<00:00,  1.57it/s]\n",
            "  0%|          | 0/10 [00:00<?, ?it/s]"
          ],
          "name": "stderr"
        },
        {
          "output_type": "stream",
          "text": [
            "Training loss: 0.288\n",
            "Epoch: 13\n"
          ],
          "name": "stdout"
        },
        {
          "output_type": "stream",
          "text": [
            "100%|██████████| 10/10 [00:06<00:00,  1.57it/s]\n",
            "  0%|          | 0/10 [00:00<?, ?it/s]"
          ],
          "name": "stderr"
        },
        {
          "output_type": "stream",
          "text": [
            "Training loss: 0.239\n",
            "Epoch: 14\n"
          ],
          "name": "stdout"
        },
        {
          "output_type": "stream",
          "text": [
            "100%|██████████| 10/10 [00:06<00:00,  1.55it/s]\n",
            "  0%|          | 0/10 [00:00<?, ?it/s]"
          ],
          "name": "stderr"
        },
        {
          "output_type": "stream",
          "text": [
            "Training loss: 0.2\n",
            "Epoch: 15\n"
          ],
          "name": "stdout"
        },
        {
          "output_type": "stream",
          "text": [
            "100%|██████████| 10/10 [00:06<00:00,  1.56it/s]\n",
            "  0%|          | 0/10 [00:00<?, ?it/s]"
          ],
          "name": "stderr"
        },
        {
          "output_type": "stream",
          "text": [
            "Training loss: 0.173\n",
            "Epoch: 16\n"
          ],
          "name": "stdout"
        },
        {
          "output_type": "stream",
          "text": [
            "100%|██████████| 10/10 [00:06<00:00,  1.56it/s]\n",
            "  0%|          | 0/10 [00:00<?, ?it/s]"
          ],
          "name": "stderr"
        },
        {
          "output_type": "stream",
          "text": [
            "Training loss: 0.152\n",
            "Epoch: 17\n"
          ],
          "name": "stdout"
        },
        {
          "output_type": "stream",
          "text": [
            "100%|██████████| 10/10 [00:06<00:00,  1.57it/s]\n",
            "  0%|          | 0/10 [00:00<?, ?it/s]"
          ],
          "name": "stderr"
        },
        {
          "output_type": "stream",
          "text": [
            "Training loss: 0.135\n",
            "Epoch: 18\n"
          ],
          "name": "stdout"
        },
        {
          "output_type": "stream",
          "text": [
            "100%|██████████| 10/10 [00:06<00:00,  1.53it/s]\n",
            "  0%|          | 0/10 [00:00<?, ?it/s]"
          ],
          "name": "stderr"
        },
        {
          "output_type": "stream",
          "text": [
            "Training loss: 0.129\n",
            "Epoch: 19\n"
          ],
          "name": "stdout"
        },
        {
          "output_type": "stream",
          "text": [
            "100%|██████████| 10/10 [00:06<00:00,  1.58it/s]\n",
            "  0%|          | 0/10 [00:00<?, ?it/s]"
          ],
          "name": "stderr"
        },
        {
          "output_type": "stream",
          "text": [
            "Training loss: 0.112\n",
            "Epoch: 20\n"
          ],
          "name": "stdout"
        },
        {
          "output_type": "stream",
          "text": [
            "100%|██████████| 10/10 [00:06<00:00,  1.60it/s]\n",
            "  0%|          | 0/68 [00:00<?, ?it/s]"
          ],
          "name": "stderr"
        },
        {
          "output_type": "stream",
          "text": [
            "Training loss: 0.103\n"
          ],
          "name": "stdout"
        },
        {
          "output_type": "stream",
          "text": [
            " 10%|█         | 7/68 [00:02<00:31,  1.96it/s]"
          ],
          "name": "stderr"
        },
        {
          "output_type": "stream",
          "text": [
            "Malformed expression ['*', '-', '+', '-', '*', '7', '9.4', '6', '-', '+', '-', '*', '7', '9.4', '6']\n",
            "Malformed expression ['*', '-', '+', '-', '*', '7', '9.4', '6', '-', '+', '-', '*', '7', '9.4', '6']\n",
            "Malformed expression ['*', '-', '+', '-', '*', '7', '9.4', '6', '-', '+', '-', '*', '7', '9.4', '6']\n",
            "Malformed expression ['*', '-', '+', '-', '*', '7', '9.4', '6', '-', '+', '-', '*', '7', '9.4', '6']\n"
          ],
          "name": "stdout"
        },
        {
          "output_type": "stream",
          "text": [
            " 13%|█▎        | 9/68 [00:02<00:21,  2.79it/s]"
          ],
          "name": "stderr"
        },
        {
          "output_type": "stream",
          "text": [
            "Malformed expression ['*', '+', '-', '*', '7', '9.4', '8', '+', '-', '*', '7', '9.4', '8']\n",
            "Malformed expression ['*', '+', '-', '*', '7', '9.4', '8', '+', '-', '*', '7', '9.4', '8']\n"
          ],
          "name": "stdout"
        },
        {
          "output_type": "stream",
          "text": [
            " 21%|██        | 14/68 [00:05<00:23,  2.29it/s]"
          ],
          "name": "stderr"
        },
        {
          "output_type": "stream",
          "text": [
            "Malformed expression ['-', '-', '6', '*', '*', '*', '0.1', '2', '7', '+', '-', '*', '7', '6', '8']\n",
            "Malformed expression ['-', '-', '6', '*', '*', '*', '0.1', '2', '7', '+', '-', '*', '7', '6', '8']\n"
          ],
          "name": "stdout"
        },
        {
          "output_type": "stream",
          "text": [
            "\r 22%|██▏       | 15/68 [00:05<00:20,  2.61it/s]"
          ],
          "name": "stderr"
        },
        {
          "output_type": "stream",
          "text": [
            "Malformed expression ['+', '+', '-', '*', '1', '1', '*', '1', '0', '0']\n"
          ],
          "name": "stdout"
        },
        {
          "output_type": "stream",
          "text": [
            " 28%|██▊       | 19/68 [00:07<00:27,  1.79it/s]"
          ],
          "name": "stderr"
        },
        {
          "output_type": "stream",
          "text": [
            "Malformed expression ['-', '9.4', '*', '*', '*', '0.1', '2', '4', '-', '+', '*', '4', '9.4', '5']\n"
          ],
          "name": "stdout"
        },
        {
          "output_type": "stream",
          "text": [
            " 41%|████      | 28/68 [00:09<00:11,  3.36it/s]"
          ],
          "name": "stderr"
        },
        {
          "output_type": "stream",
          "text": [
            "Malformed expression ['+', '+', '-', '-', '*', '1', '1', '*', '0', '0', '3']\n",
            "Malformed expression ['+', '+', '-', '-', '*', '1', '1', '*', '0', '0', '3']\n"
          ],
          "name": "stdout"
        },
        {
          "output_type": "stream",
          "text": [
            "\r 43%|████▎     | 29/68 [00:10<00:21,  1.85it/s]"
          ],
          "name": "stderr"
        },
        {
          "output_type": "stream",
          "text": [
            "Malformed expression ['-', '+', '+', '-', '*', '0', '1', '*', '1', '0', '6']\n",
            "Malformed expression ['-', '+', '+', '-', '*', '0', '1', '*', '1', '0', '6']\n"
          ],
          "name": "stdout"
        },
        {
          "output_type": "stream",
          "text": [
            " 46%|████▌     | 31/68 [00:12<00:20,  1.79it/s]"
          ],
          "name": "stderr"
        },
        {
          "output_type": "stream",
          "text": [
            "Malformed expression ['-', '-', '6', '*', '*', '*', '0.1', '2', '10', '-', '+', '-', '*', '10', '6', '5']\n",
            "Malformed expression ['-', '-', '6', '*', '*', '*', '0.1', '2', '10', '-', '+', '-', '*', '10', '6', '5']\n",
            "Malformed expression ['-', '-', '6', '*', '*', '*', '0.1', '2', '10', '-', '+', '-', '*', '10', '6', '5']\n"
          ],
          "name": "stdout"
        },
        {
          "output_type": "stream",
          "text": [
            " 51%|█████▏    | 35/68 [00:14<00:20,  1.65it/s]"
          ],
          "name": "stderr"
        },
        {
          "output_type": "stream",
          "text": [
            "Malformed expression ['-', '-', '6', '*', '*', '*', '0.1', '2', '0.3', '+', '-', '*', '0.3', '6', '6']\n",
            "Malformed expression ['-', '-', '6', '*', '*', '*', '0.1', '2', '0.3', '+', '-', '*', '0.3', '6', '6']\n"
          ],
          "name": "stdout"
        },
        {
          "output_type": "stream",
          "text": [
            " 59%|█████▉    | 40/68 [00:16<00:15,  1.85it/s]"
          ],
          "name": "stderr"
        },
        {
          "output_type": "stream",
          "text": [
            "Malformed expression ['-', '+', '+', '*', '1', '2', '*', '1', '1', '6']\n"
          ],
          "name": "stdout"
        },
        {
          "output_type": "stream",
          "text": [
            "\r 60%|██████    | 41/68 [00:16<00:12,  2.18it/s]"
          ],
          "name": "stderr"
        },
        {
          "output_type": "stream",
          "text": [
            "Malformed expression ['+', '+', '-', '*', '1', '0', '*', '0', '1', '0.25']\n"
          ],
          "name": "stdout"
        },
        {
          "output_type": "stream",
          "text": [
            " 75%|███████▌  | 51/68 [00:18<00:03,  4.26it/s]"
          ],
          "name": "stderr"
        },
        {
          "output_type": "stream",
          "text": [
            "Malformed expression ['+', '+', '-', '*', '1', '3', '*', '0', '4', '0.25']\n"
          ],
          "name": "stdout"
        },
        {
          "output_type": "stream",
          "text": [
            "\r 76%|███████▋  | 52/68 [00:19<00:07,  2.02it/s]"
          ],
          "name": "stderr"
        },
        {
          "output_type": "stream",
          "text": [
            "Malformed expression ['-', '+', '+', '-', '*', '1', '4', '*', '0', '5', '6']\n",
            "Malformed expression ['-', '+', '+', '-', '*', '1', '4', '*', '0', '5', '6']\n"
          ],
          "name": "stdout"
        },
        {
          "output_type": "stream",
          "text": [
            " 87%|████████▋ | 59/68 [00:22<00:04,  1.97it/s]"
          ],
          "name": "stderr"
        },
        {
          "output_type": "stream",
          "text": [
            "Malformed expression ['-', '15.4', '*', '*', '*', '0.1', '2', '7', '-', '+', '*', '7', '15.4', '5']\n"
          ],
          "name": "stdout"
        },
        {
          "output_type": "stream",
          "text": [
            "100%|██████████| 68/68 [00:24<00:00,  2.80it/s]\n",
            "  0%|          | 0/10 [00:00<?, ?it/s]"
          ],
          "name": "stderr"
        },
        {
          "output_type": "stream",
          "text": [
            "Validation expression accuracy: 0.735\n",
            "Validation value accuracy: 0.75\n",
            "Epoch: 21\n"
          ],
          "name": "stdout"
        },
        {
          "output_type": "stream",
          "text": [
            "100%|██████████| 10/10 [00:06<00:00,  1.59it/s]\n",
            "  0%|          | 0/10 [00:00<?, ?it/s]"
          ],
          "name": "stderr"
        },
        {
          "output_type": "stream",
          "text": [
            "Training loss: 0.0965\n",
            "Epoch: 22\n"
          ],
          "name": "stdout"
        },
        {
          "output_type": "stream",
          "text": [
            "100%|██████████| 10/10 [00:06<00:00,  1.60it/s]\n",
            "  0%|          | 0/10 [00:00<?, ?it/s]"
          ],
          "name": "stderr"
        },
        {
          "output_type": "stream",
          "text": [
            "Training loss: 0.088\n",
            "Epoch: 23\n"
          ],
          "name": "stdout"
        },
        {
          "output_type": "stream",
          "text": [
            "100%|██████████| 10/10 [00:06<00:00,  1.52it/s]\n",
            "  0%|          | 0/10 [00:00<?, ?it/s]"
          ],
          "name": "stderr"
        },
        {
          "output_type": "stream",
          "text": [
            "Training loss: 0.0902\n",
            "Epoch: 24\n"
          ],
          "name": "stdout"
        },
        {
          "output_type": "stream",
          "text": [
            "100%|██████████| 10/10 [00:06<00:00,  1.59it/s]\n",
            "  0%|          | 0/10 [00:00<?, ?it/s]"
          ],
          "name": "stderr"
        },
        {
          "output_type": "stream",
          "text": [
            "Training loss: 0.0836\n",
            "Epoch: 25\n"
          ],
          "name": "stdout"
        },
        {
          "output_type": "stream",
          "text": [
            "100%|██████████| 10/10 [00:06<00:00,  1.60it/s]\n",
            "  0%|          | 0/10 [00:00<?, ?it/s]"
          ],
          "name": "stderr"
        },
        {
          "output_type": "stream",
          "text": [
            "Training loss: 0.0768\n",
            "Epoch: 26\n"
          ],
          "name": "stdout"
        },
        {
          "output_type": "stream",
          "text": [
            "100%|██████████| 10/10 [00:06<00:00,  1.61it/s]\n",
            "  0%|          | 0/10 [00:00<?, ?it/s]"
          ],
          "name": "stderr"
        },
        {
          "output_type": "stream",
          "text": [
            "Training loss: 0.0713\n",
            "Epoch: 27\n"
          ],
          "name": "stdout"
        },
        {
          "output_type": "stream",
          "text": [
            "100%|██████████| 10/10 [00:06<00:00,  1.61it/s]\n",
            "  0%|          | 0/10 [00:00<?, ?it/s]"
          ],
          "name": "stderr"
        },
        {
          "output_type": "stream",
          "text": [
            "Training loss: 0.0708\n",
            "Epoch: 28\n"
          ],
          "name": "stdout"
        },
        {
          "output_type": "stream",
          "text": [
            "100%|██████████| 10/10 [00:06<00:00,  1.60it/s]\n",
            "  0%|          | 0/10 [00:00<?, ?it/s]"
          ],
          "name": "stderr"
        },
        {
          "output_type": "stream",
          "text": [
            "Training loss: 0.0672\n",
            "Epoch: 29\n"
          ],
          "name": "stdout"
        },
        {
          "output_type": "stream",
          "text": [
            "100%|██████████| 10/10 [00:06<00:00,  1.62it/s]\n",
            "  0%|          | 0/10 [00:00<?, ?it/s]"
          ],
          "name": "stderr"
        },
        {
          "output_type": "stream",
          "text": [
            "Training loss: 0.0594\n",
            "Epoch: 30\n"
          ],
          "name": "stdout"
        },
        {
          "output_type": "stream",
          "text": [
            "100%|██████████| 10/10 [00:06<00:00,  1.56it/s]\n",
            "  1%|▏         | 1/68 [00:00<00:13,  5.11it/s]"
          ],
          "name": "stderr"
        },
        {
          "output_type": "stream",
          "text": [
            "Training loss: 0.0555\n"
          ],
          "name": "stdout"
        },
        {
          "output_type": "stream",
          "text": [
            " 10%|█         | 7/68 [00:02<00:29,  2.06it/s]"
          ],
          "name": "stderr"
        },
        {
          "output_type": "stream",
          "text": [
            "Malformed expression ['*', '-', '+', '-', '*', '7', '9.4', '6', '-', '+', '-', '*', '7', '9.4', '6']\n",
            "Malformed expression ['*', '-', '+', '-', '*', '7', '9.4', '6', '-', '+', '-', '*', '7', '9.4', '6']\n",
            "Malformed expression ['*', '-', '+', '-', '*', '7', '9.4', '6', '-', '+', '-', '*', '7', '9.4', '6']\n",
            "Malformed expression ['*', '-', '+', '-', '*', '7', '9.4', '6', '-', '+', '-', '*', '7', '9.4', '6']\n"
          ],
          "name": "stdout"
        },
        {
          "output_type": "stream",
          "text": [
            " 13%|█▎        | 9/68 [00:03<00:30,  1.92it/s]"
          ],
          "name": "stderr"
        },
        {
          "output_type": "stream",
          "text": [
            "Malformed expression ['*', '+', '-', '*', '7', '9.4', '8', '+', '-', '*', '7', '9.4', '8']\n",
            "Malformed expression ['*', '+', '-', '*', '7', '9.4', '8', '+', '-', '*', '7', '9.4', '8']\n"
          ],
          "name": "stdout"
        },
        {
          "output_type": "stream",
          "text": [
            " 21%|██        | 14/68 [00:05<00:24,  2.19it/s]"
          ],
          "name": "stderr"
        },
        {
          "output_type": "stream",
          "text": [
            "Malformed expression ['-', '-', '6', '*', '*', '*', '0.1', '2', '7', '+', '-', '*', '7', '6', '8']\n",
            "Malformed expression ['-', '-', '6', '*', '*', '*', '0.1', '2', '7', '+', '-', '*', '7', '6', '8']\n"
          ],
          "name": "stdout"
        },
        {
          "output_type": "stream",
          "text": [
            "\r 22%|██▏       | 15/68 [00:05<00:20,  2.53it/s]"
          ],
          "name": "stderr"
        },
        {
          "output_type": "stream",
          "text": [
            "Malformed expression ['+', '+', '-', '*', '1', '1', '*', '1', '0', '0']\n"
          ],
          "name": "stdout"
        },
        {
          "output_type": "stream",
          "text": [
            " 29%|██▉       | 20/68 [00:08<00:20,  2.30it/s]"
          ],
          "name": "stderr"
        },
        {
          "output_type": "stream",
          "text": [
            "Malformed expression ['-', '9.4', '*', '*', '*', '0.1', '2', '4', '-', '+', '*', '4', '9.4', '5']\n"
          ],
          "name": "stdout"
        },
        {
          "output_type": "stream",
          "text": [
            " 41%|████      | 28/68 [00:10<00:14,  2.73it/s]"
          ],
          "name": "stderr"
        },
        {
          "output_type": "stream",
          "text": [
            "Malformed expression ['+', '+', '-', '-', '*', '1', '1', '*', '0', '0', '3']\n",
            "Malformed expression ['+', '+', '-', '-', '*', '1', '1', '*', '0', '0', '3']\n"
          ],
          "name": "stdout"
        },
        {
          "output_type": "stream",
          "text": [
            "\r 43%|████▎     | 29/68 [00:10<00:14,  2.69it/s]"
          ],
          "name": "stderr"
        },
        {
          "output_type": "stream",
          "text": [
            "Malformed expression ['-', '+', '+', '-', '*', '0', '1', '*', '1', '0', '6']\n",
            "Malformed expression ['-', '+', '+', '-', '*', '0', '1', '*', '1', '0', '6']\n"
          ],
          "name": "stdout"
        },
        {
          "output_type": "stream",
          "text": [
            " 46%|████▌     | 31/68 [00:12<00:17,  2.15it/s]"
          ],
          "name": "stderr"
        },
        {
          "output_type": "stream",
          "text": [
            "Malformed expression ['-', '-', '6', '*', '*', '*', '0.1', '2', '10', '-', '+', '-', '*', '10', '6', '5']\n",
            "Malformed expression ['-', '-', '6', '*', '*', '*', '0.1', '2', '10', '-', '+', '-', '*', '10', '6', '5']\n",
            "Malformed expression ['-', '-', '6', '*', '*', '*', '0.1', '2', '10', '-', '+', '-', '*', '10', '6', '5']\n"
          ],
          "name": "stdout"
        },
        {
          "output_type": "stream",
          "text": [
            " 53%|█████▎    | 36/68 [00:14<00:14,  2.25it/s]"
          ],
          "name": "stderr"
        },
        {
          "output_type": "stream",
          "text": [
            "Malformed expression ['-', '-', '6', '*', '*', '*', '0.1', '2', '0.3', '+', '-', '*', '0.3', '6', '6']\n",
            "Malformed expression ['-', '-', '6', '*', '*', '*', '0.1', '2', '0.3', '+', '-', '*', '0.3', '6', '6']\n"
          ],
          "name": "stdout"
        },
        {
          "output_type": "stream",
          "text": [
            " 59%|█████▉    | 40/68 [00:15<00:14,  1.97it/s]"
          ],
          "name": "stderr"
        },
        {
          "output_type": "stream",
          "text": [
            "Malformed expression ['-', '+', '+', '*', '1', '2', '*', '1', '1', '6']\n"
          ],
          "name": "stdout"
        },
        {
          "output_type": "stream",
          "text": [
            "\r 60%|██████    | 41/68 [00:16<00:11,  2.31it/s]"
          ],
          "name": "stderr"
        },
        {
          "output_type": "stream",
          "text": [
            "Malformed expression ['+', '+', '-', '*', '1', '0', '*', '0', '1', '0.25']\n"
          ],
          "name": "stdout"
        },
        {
          "output_type": "stream",
          "text": [
            " 75%|███████▌  | 51/68 [00:18<00:03,  4.36it/s]"
          ],
          "name": "stderr"
        },
        {
          "output_type": "stream",
          "text": [
            "Malformed expression ['+', '+', '-', '*', '1', '3', '*', '0', '4', '0.25']\n"
          ],
          "name": "stdout"
        },
        {
          "output_type": "stream",
          "text": [
            "\r 76%|███████▋  | 52/68 [00:18<00:04,  3.45it/s]"
          ],
          "name": "stderr"
        },
        {
          "output_type": "stream",
          "text": [
            "Malformed expression ['-', '+', '+', '-', '*', '1', '4', '*', '0', '5', '6']\n",
            "Malformed expression ['-', '+', '+', '-', '*', '1', '4', '*', '0', '5', '6']\n"
          ],
          "name": "stdout"
        },
        {
          "output_type": "stream",
          "text": [
            " 87%|████████▋ | 59/68 [00:20<00:04,  2.16it/s]"
          ],
          "name": "stderr"
        },
        {
          "output_type": "stream",
          "text": [
            "Malformed expression ['-', '15.4', '*', '*', '*', '0.1', '2', '7', '-', '+', '*', '7', '15.4', '5']\n"
          ],
          "name": "stdout"
        },
        {
          "output_type": "stream",
          "text": [
            "100%|██████████| 68/68 [00:23<00:00,  2.96it/s]\n",
            "  0%|          | 0/10 [00:00<?, ?it/s]"
          ],
          "name": "stderr"
        },
        {
          "output_type": "stream",
          "text": [
            "Validation expression accuracy: 0.794\n",
            "Validation value accuracy: 0.794\n",
            "Epoch: 31\n"
          ],
          "name": "stdout"
        },
        {
          "output_type": "stream",
          "text": [
            "100%|██████████| 10/10 [00:06<00:00,  1.62it/s]\n",
            "  0%|          | 0/10 [00:00<?, ?it/s]"
          ],
          "name": "stderr"
        },
        {
          "output_type": "stream",
          "text": [
            "Training loss: 0.0477\n",
            "Epoch: 32\n"
          ],
          "name": "stdout"
        },
        {
          "output_type": "stream",
          "text": [
            "100%|██████████| 10/10 [00:06<00:00,  1.62it/s]\n",
            "  0%|          | 0/10 [00:00<?, ?it/s]"
          ],
          "name": "stderr"
        },
        {
          "output_type": "stream",
          "text": [
            "Training loss: 0.0469\n",
            "Epoch: 33\n"
          ],
          "name": "stdout"
        },
        {
          "output_type": "stream",
          "text": [
            "100%|██████████| 10/10 [00:06<00:00,  1.61it/s]\n",
            "  0%|          | 0/10 [00:00<?, ?it/s]"
          ],
          "name": "stderr"
        },
        {
          "output_type": "stream",
          "text": [
            "Training loss: 0.0441\n",
            "Epoch: 34\n"
          ],
          "name": "stdout"
        },
        {
          "output_type": "stream",
          "text": [
            "100%|██████████| 10/10 [00:06<00:00,  1.61it/s]\n",
            "  0%|          | 0/10 [00:00<?, ?it/s]"
          ],
          "name": "stderr"
        },
        {
          "output_type": "stream",
          "text": [
            "Training loss: 0.0423\n",
            "Epoch: 35\n"
          ],
          "name": "stdout"
        },
        {
          "output_type": "stream",
          "text": [
            "100%|██████████| 10/10 [00:06<00:00,  1.62it/s]\n",
            "  0%|          | 0/10 [00:00<?, ?it/s]"
          ],
          "name": "stderr"
        },
        {
          "output_type": "stream",
          "text": [
            "Training loss: 0.0379\n",
            "Epoch: 36\n"
          ],
          "name": "stdout"
        },
        {
          "output_type": "stream",
          "text": [
            "100%|██████████| 10/10 [00:06<00:00,  1.56it/s]\n",
            "  0%|          | 0/10 [00:00<?, ?it/s]"
          ],
          "name": "stderr"
        },
        {
          "output_type": "stream",
          "text": [
            "Training loss: 0.0375\n",
            "Epoch: 37\n"
          ],
          "name": "stdout"
        },
        {
          "output_type": "stream",
          "text": [
            "100%|██████████| 10/10 [00:06<00:00,  1.61it/s]\n",
            "  0%|          | 0/10 [00:00<?, ?it/s]"
          ],
          "name": "stderr"
        },
        {
          "output_type": "stream",
          "text": [
            "Training loss: 0.033\n",
            "Epoch: 38\n"
          ],
          "name": "stdout"
        },
        {
          "output_type": "stream",
          "text": [
            "100%|██████████| 10/10 [00:06<00:00,  1.62it/s]\n",
            "  0%|          | 0/10 [00:00<?, ?it/s]"
          ],
          "name": "stderr"
        },
        {
          "output_type": "stream",
          "text": [
            "Training loss: 0.0299\n",
            "Epoch: 39\n"
          ],
          "name": "stdout"
        },
        {
          "output_type": "stream",
          "text": [
            "100%|██████████| 10/10 [00:06<00:00,  1.61it/s]\n",
            "  0%|          | 0/10 [00:00<?, ?it/s]"
          ],
          "name": "stderr"
        },
        {
          "output_type": "stream",
          "text": [
            "Training loss: 0.0273\n",
            "Epoch: 40\n"
          ],
          "name": "stdout"
        },
        {
          "output_type": "stream",
          "text": [
            "100%|██████████| 10/10 [00:06<00:00,  1.64it/s]\n",
            "  0%|          | 0/68 [00:00<?, ?it/s]"
          ],
          "name": "stderr"
        },
        {
          "output_type": "stream",
          "text": [
            "Training loss: 0.0252\n"
          ],
          "name": "stdout"
        },
        {
          "output_type": "stream",
          "text": [
            " 10%|█         | 7/68 [00:01<00:20,  2.96it/s]"
          ],
          "name": "stderr"
        },
        {
          "output_type": "stream",
          "text": [
            "Malformed expression ['*', '-', '+', '-', '*', '7', '9.4', '6', '-', '+', '-', '*', '7', '9.4', '6']\n",
            "Malformed expression ['*', '-', '+', '-', '*', '7', '9.4', '6', '-', '+', '-', '*', '7', '9.4', '6']\n",
            "Malformed expression ['*', '-', '+', '-', '*', '7', '9.4', '6', '-', '+', '-', '*', '7', '9.4', '6']\n",
            "Malformed expression ['*', '-', '+', '-', '*', '7', '9.4', '6', '-', '+', '-', '*', '7', '9.4', '6']\n"
          ],
          "name": "stdout"
        },
        {
          "output_type": "stream",
          "text": [
            " 13%|█▎        | 9/68 [00:03<00:25,  2.27it/s]"
          ],
          "name": "stderr"
        },
        {
          "output_type": "stream",
          "text": [
            "Malformed expression ['*', '+', '-', '*', '7', '9.4', '8', '+', '-', '*', '7', '9.4', '8']\n",
            "Malformed expression ['*', '+', '-', '*', '7', '9.4', '8', '+', '-', '*', '7', '9.4', '8']\n"
          ],
          "name": "stdout"
        },
        {
          "output_type": "stream",
          "text": [
            " 21%|██        | 14/68 [00:05<00:23,  2.26it/s]"
          ],
          "name": "stderr"
        },
        {
          "output_type": "stream",
          "text": [
            "Malformed expression ['-', '-', '6', '*', '*', '*', '0.1', '2', '7', '+', '-', '*', '7', '6', '8']\n",
            "Malformed expression ['-', '-', '6', '*', '*', '*', '0.1', '2', '7', '+', '-', '*', '7', '6', '8']\n"
          ],
          "name": "stdout"
        },
        {
          "output_type": "stream",
          "text": [
            "\r 22%|██▏       | 15/68 [00:05<00:20,  2.59it/s]"
          ],
          "name": "stderr"
        },
        {
          "output_type": "stream",
          "text": [
            "Malformed expression ['+', '+', '-', '*', '1', '1', '*', '1', '0', '0']\n"
          ],
          "name": "stdout"
        },
        {
          "output_type": "stream",
          "text": [
            " 29%|██▉       | 20/68 [00:07<00:21,  2.27it/s]"
          ],
          "name": "stderr"
        },
        {
          "output_type": "stream",
          "text": [
            "Malformed expression ['-', '9.4', '*', '*', '*', '0.1', '2', '4', '-', '+', '*', '4', '9.4', '5']\n"
          ],
          "name": "stdout"
        },
        {
          "output_type": "stream",
          "text": [
            " 41%|████      | 28/68 [00:09<00:12,  3.16it/s]"
          ],
          "name": "stderr"
        },
        {
          "output_type": "stream",
          "text": [
            "Malformed expression ['+', '+', '-', '-', '*', '1', '1', '*', '0', '0', '3']\n",
            "Malformed expression ['+', '+', '-', '-', '*', '1', '1', '*', '0', '0', '3']\n"
          ],
          "name": "stdout"
        },
        {
          "output_type": "stream",
          "text": [
            "\r 43%|████▎     | 29/68 [00:10<00:13,  2.89it/s]"
          ],
          "name": "stderr"
        },
        {
          "output_type": "stream",
          "text": [
            "Malformed expression ['-', '+', '+', '-', '*', '0', '1', '*', '1', '0', '6']\n",
            "Malformed expression ['-', '+', '+', '-', '*', '0', '1', '*', '1', '0', '6']\n"
          ],
          "name": "stdout"
        },
        {
          "output_type": "stream",
          "text": [
            " 46%|████▌     | 31/68 [00:11<00:16,  2.22it/s]"
          ],
          "name": "stderr"
        },
        {
          "output_type": "stream",
          "text": [
            "Malformed expression ['-', '-', '6', '*', '*', '*', '0.1', '2', '10', '-', '+', '-', '*', '10', '6', '5']\n",
            "Malformed expression ['-', '-', '6', '*', '*', '*', '0.1', '2', '10', '-', '+', '-', '*', '10', '6', '5']\n",
            "Malformed expression ['-', '-', '6', '*', '*', '*', '0.1', '2', '10', '-', '+', '-', '*', '10', '6', '5']\n"
          ],
          "name": "stdout"
        },
        {
          "output_type": "stream",
          "text": [
            " 53%|█████▎    | 36/68 [00:13<00:13,  2.31it/s]"
          ],
          "name": "stderr"
        },
        {
          "output_type": "stream",
          "text": [
            "Malformed expression ['-', '-', '6', '*', '*', '*', '0.1', '2', '0.3', '+', '-', '*', '0.3', '6', '6']\n",
            "Malformed expression ['-', '-', '6', '*', '*', '*', '0.1', '2', '0.3', '+', '-', '*', '0.3', '6', '6']\n"
          ],
          "name": "stdout"
        },
        {
          "output_type": "stream",
          "text": [
            " 59%|█████▉    | 40/68 [00:15<00:14,  1.91it/s]"
          ],
          "name": "stderr"
        },
        {
          "output_type": "stream",
          "text": [
            "Malformed expression ['-', '+', '+', '*', '1', '2', '*', '1', '1', '6']\n"
          ],
          "name": "stdout"
        },
        {
          "output_type": "stream",
          "text": [
            "\r 60%|██████    | 41/68 [00:15<00:11,  2.27it/s]"
          ],
          "name": "stderr"
        },
        {
          "output_type": "stream",
          "text": [
            "Malformed expression ['+', '+', '-', '*', '1', '0', '*', '0', '1', '0.25']\n"
          ],
          "name": "stdout"
        },
        {
          "output_type": "stream",
          "text": [
            " 75%|███████▌  | 51/68 [00:17<00:03,  4.46it/s]"
          ],
          "name": "stderr"
        },
        {
          "output_type": "stream",
          "text": [
            "Malformed expression ['+', '+', '-', '*', '1', '3', '*', '0', '4', '0.25']\n"
          ],
          "name": "stdout"
        },
        {
          "output_type": "stream",
          "text": [
            "\r 76%|███████▋  | 52/68 [00:18<00:06,  2.41it/s]"
          ],
          "name": "stderr"
        },
        {
          "output_type": "stream",
          "text": [
            "Malformed expression ['-', '+', '+', '-', '*', '1', '4', '*', '0', '5', '6']\n",
            "Malformed expression ['-', '+', '+', '-', '*', '1', '4', '*', '0', '5', '6']\n"
          ],
          "name": "stdout"
        },
        {
          "output_type": "stream",
          "text": [
            " 87%|████████▋ | 59/68 [00:20<00:04,  2.04it/s]"
          ],
          "name": "stderr"
        },
        {
          "output_type": "stream",
          "text": [
            "Malformed expression ['-', '15.4', '*', '*', '*', '0.1', '2', '7', '-', '+', '*', '7', '15.4', '5']\n"
          ],
          "name": "stdout"
        },
        {
          "output_type": "stream",
          "text": [
            "100%|██████████| 68/68 [00:22<00:00,  2.96it/s]\n",
            "  0%|          | 0/10 [00:00<?, ?it/s]"
          ],
          "name": "stderr"
        },
        {
          "output_type": "stream",
          "text": [
            "Validation expression accuracy: 0.794\n",
            "Validation value accuracy: 0.794\n",
            "Epoch: 41\n"
          ],
          "name": "stdout"
        },
        {
          "output_type": "stream",
          "text": [
            "100%|██████████| 10/10 [00:06<00:00,  1.61it/s]\n",
            "  0%|          | 0/10 [00:00<?, ?it/s]"
          ],
          "name": "stderr"
        },
        {
          "output_type": "stream",
          "text": [
            "Training loss: 0.0231\n",
            "Epoch: 42\n"
          ],
          "name": "stdout"
        },
        {
          "output_type": "stream",
          "text": [
            "100%|██████████| 10/10 [00:06<00:00,  1.57it/s]\n",
            "  0%|          | 0/10 [00:00<?, ?it/s]"
          ],
          "name": "stderr"
        },
        {
          "output_type": "stream",
          "text": [
            "Training loss: 0.0269\n",
            "Epoch: 43\n"
          ],
          "name": "stdout"
        },
        {
          "output_type": "stream",
          "text": [
            "100%|██████████| 10/10 [00:06<00:00,  1.61it/s]\n",
            "  0%|          | 0/10 [00:00<?, ?it/s]"
          ],
          "name": "stderr"
        },
        {
          "output_type": "stream",
          "text": [
            "Training loss: 0.0272\n",
            "Epoch: 44\n"
          ],
          "name": "stdout"
        },
        {
          "output_type": "stream",
          "text": [
            "100%|██████████| 10/10 [00:06<00:00,  1.61it/s]\n",
            "  0%|          | 0/10 [00:00<?, ?it/s]"
          ],
          "name": "stderr"
        },
        {
          "output_type": "stream",
          "text": [
            "Training loss: 0.0212\n",
            "Epoch: 45\n"
          ],
          "name": "stdout"
        },
        {
          "output_type": "stream",
          "text": [
            "100%|██████████| 10/10 [00:06<00:00,  1.62it/s]\n",
            "  0%|          | 0/10 [00:00<?, ?it/s]"
          ],
          "name": "stderr"
        },
        {
          "output_type": "stream",
          "text": [
            "Training loss: 0.0209\n",
            "Epoch: 46\n"
          ],
          "name": "stdout"
        },
        {
          "output_type": "stream",
          "text": [
            "100%|██████████| 10/10 [00:06<00:00,  1.62it/s]\n",
            "  0%|          | 0/10 [00:00<?, ?it/s]"
          ],
          "name": "stderr"
        },
        {
          "output_type": "stream",
          "text": [
            "Training loss: 0.0196\n",
            "Epoch: 47\n"
          ],
          "name": "stdout"
        },
        {
          "output_type": "stream",
          "text": [
            "100%|██████████| 10/10 [00:06<00:00,  1.62it/s]\n",
            "  0%|          | 0/10 [00:00<?, ?it/s]"
          ],
          "name": "stderr"
        },
        {
          "output_type": "stream",
          "text": [
            "Training loss: 0.016\n",
            "Epoch: 48\n"
          ],
          "name": "stdout"
        },
        {
          "output_type": "stream",
          "text": [
            "100%|██████████| 10/10 [00:06<00:00,  1.55it/s]\n",
            "  0%|          | 0/10 [00:00<?, ?it/s]"
          ],
          "name": "stderr"
        },
        {
          "output_type": "stream",
          "text": [
            "Training loss: 0.017\n",
            "Epoch: 49\n"
          ],
          "name": "stdout"
        },
        {
          "output_type": "stream",
          "text": [
            "100%|██████████| 10/10 [00:06<00:00,  1.61it/s]\n",
            "  0%|          | 0/10 [00:00<?, ?it/s]"
          ],
          "name": "stderr"
        },
        {
          "output_type": "stream",
          "text": [
            "Training loss: 0.0177\n",
            "Epoch: 50\n"
          ],
          "name": "stdout"
        },
        {
          "output_type": "stream",
          "text": [
            "100%|██████████| 10/10 [00:06<00:00,  1.64it/s]\n",
            "  1%|▏         | 1/68 [00:00<00:12,  5.24it/s]"
          ],
          "name": "stderr"
        },
        {
          "output_type": "stream",
          "text": [
            "Training loss: 0.0177\n"
          ],
          "name": "stdout"
        },
        {
          "output_type": "stream",
          "text": [
            " 10%|█         | 7/68 [00:01<00:18,  3.33it/s]"
          ],
          "name": "stderr"
        },
        {
          "output_type": "stream",
          "text": [
            "Malformed expression ['*', '-', '+', '-', '*', '7', '9.4', '6', '-', '+', '-', '*', '7', '9.4', '6']\n",
            "Malformed expression ['*', '-', '+', '-', '*', '7', '9.4', '6', '-', '+', '-', '*', '7', '9.4', '6']\n",
            "Malformed expression ['*', '-', '+', '-', '*', '7', '9.4', '6', '-', '+', '-', '*', '7', '9.4', '6']\n",
            "Malformed expression ['*', '-', '+', '-', '*', '7', '9.4', '6', '-', '+', '-', '*', '7', '9.4', '6']\n"
          ],
          "name": "stdout"
        },
        {
          "output_type": "stream",
          "text": [
            " 13%|█▎        | 9/68 [00:02<00:17,  3.31it/s]"
          ],
          "name": "stderr"
        },
        {
          "output_type": "stream",
          "text": [
            "Malformed expression ['*', '+', '-', '*', '7', '9.4', '8', '+', '-', '*', '7', '9.4', '8']\n",
            "Malformed expression ['*', '+', '-', '*', '7', '9.4', '8', '+', '-', '*', '7', '9.4', '8']\n"
          ],
          "name": "stdout"
        },
        {
          "output_type": "stream",
          "text": [
            " 21%|██        | 14/68 [00:04<00:22,  2.42it/s]"
          ],
          "name": "stderr"
        },
        {
          "output_type": "stream",
          "text": [
            "Malformed expression ['-', '-', '6', '*', '*', '*', '0.1', '2', '7', '+', '-', '*', '7', '6', '8']\n",
            "Malformed expression ['-', '-', '6', '*', '*', '*', '0.1', '2', '7', '+', '-', '*', '7', '6', '8']\n"
          ],
          "name": "stdout"
        },
        {
          "output_type": "stream",
          "text": [
            "\r 22%|██▏       | 15/68 [00:04<00:19,  2.73it/s]"
          ],
          "name": "stderr"
        },
        {
          "output_type": "stream",
          "text": [
            "Malformed expression ['+', '+', '-', '*', '1', '1', '*', '1', '0', '0']\n"
          ],
          "name": "stdout"
        },
        {
          "output_type": "stream",
          "text": [
            " 29%|██▉       | 20/68 [00:06<00:20,  2.30it/s]"
          ],
          "name": "stderr"
        },
        {
          "output_type": "stream",
          "text": [
            "Malformed expression ['-', '9.4', '*', '*', '*', '0.1', '2', '4', '-', '+', '*', '4', '9.4', '5']\n"
          ],
          "name": "stdout"
        },
        {
          "output_type": "stream",
          "text": [
            " 41%|████      | 28/68 [00:09<00:12,  3.17it/s]"
          ],
          "name": "stderr"
        },
        {
          "output_type": "stream",
          "text": [
            "Malformed expression ['+', '+', '-', '-', '*', '1', '1', '*', '0', '0', '3']\n",
            "Malformed expression ['+', '+', '-', '-', '*', '1', '1', '*', '0', '0', '3']\n"
          ],
          "name": "stdout"
        },
        {
          "output_type": "stream",
          "text": [
            "\r 43%|████▎     | 29/68 [00:10<00:20,  1.87it/s]"
          ],
          "name": "stderr"
        },
        {
          "output_type": "stream",
          "text": [
            "Malformed expression ['-', '+', '+', '-', '*', '0', '1', '*', '1', '0', '6']\n",
            "Malformed expression ['-', '+', '+', '-', '*', '0', '1', '*', '1', '0', '6']\n"
          ],
          "name": "stdout"
        },
        {
          "output_type": "stream",
          "text": [
            " 46%|████▌     | 31/68 [00:11<00:20,  1.83it/s]"
          ],
          "name": "stderr"
        },
        {
          "output_type": "stream",
          "text": [
            "Malformed expression ['-', '-', '6', '*', '*', '*', '0.1', '2', '10', '-', '+', '-', '*', '10', '6', '5']\n",
            "Malformed expression ['-', '-', '6', '*', '*', '*', '0.1', '2', '10', '-', '+', '-', '*', '10', '6', '5']\n",
            "Malformed expression ['-', '-', '6', '*', '*', '*', '0.1', '2', '10', '-', '+', '-', '*', '10', '6', '5']\n"
          ],
          "name": "stdout"
        },
        {
          "output_type": "stream",
          "text": [
            " 53%|█████▎    | 36/68 [00:13<00:14,  2.18it/s]"
          ],
          "name": "stderr"
        },
        {
          "output_type": "stream",
          "text": [
            "Malformed expression ['-', '-', '6', '*', '*', '*', '0.1', '2', '0.3', '+', '-', '*', '0.3', '6', '6']\n",
            "Malformed expression ['-', '-', '6', '*', '*', '*', '0.1', '2', '0.3', '+', '-', '*', '0.3', '6', '6']\n"
          ],
          "name": "stdout"
        },
        {
          "output_type": "stream",
          "text": [
            " 59%|█████▉    | 40/68 [00:15<00:14,  1.89it/s]"
          ],
          "name": "stderr"
        },
        {
          "output_type": "stream",
          "text": [
            "Malformed expression ['-', '+', '+', '*', '1', '2', '*', '1', '1', '6']\n"
          ],
          "name": "stdout"
        },
        {
          "output_type": "stream",
          "text": [
            "\r 60%|██████    | 41/68 [00:15<00:12,  2.23it/s]"
          ],
          "name": "stderr"
        },
        {
          "output_type": "stream",
          "text": [
            "Malformed expression ['+', '+', '-', '*', '1', '0', '*', '0', '1', '0.25']\n"
          ],
          "name": "stdout"
        },
        {
          "output_type": "stream",
          "text": [
            " 75%|███████▌  | 51/68 [00:17<00:03,  4.45it/s]"
          ],
          "name": "stderr"
        },
        {
          "output_type": "stream",
          "text": [
            "Malformed expression ['+', '+', '-', '*', '1', '3', '*', '0', '4', '0.25']\n"
          ],
          "name": "stdout"
        },
        {
          "output_type": "stream",
          "text": [
            "\r 76%|███████▋  | 52/68 [00:18<00:07,  2.11it/s]"
          ],
          "name": "stderr"
        },
        {
          "output_type": "stream",
          "text": [
            "Malformed expression ['-', '+', '+', '-', '*', '1', '4', '*', '0', '5', '6']\n",
            "Malformed expression ['-', '+', '+', '-', '*', '1', '4', '*', '0', '5', '6']\n"
          ],
          "name": "stdout"
        },
        {
          "output_type": "stream",
          "text": [
            " 87%|████████▋ | 59/68 [00:21<00:04,  1.99it/s]"
          ],
          "name": "stderr"
        },
        {
          "output_type": "stream",
          "text": [
            "Malformed expression ['-', '15.4', '*', '*', '*', '0.1', '2', '7', '-', '+', '*', '7', '15.4', '5']\n"
          ],
          "name": "stdout"
        },
        {
          "output_type": "stream",
          "text": [
            "100%|██████████| 68/68 [00:23<00:00,  2.94it/s]\n",
            "  0%|          | 0/10 [00:00<?, ?it/s]"
          ],
          "name": "stderr"
        },
        {
          "output_type": "stream",
          "text": [
            "Validation expression accuracy: 0.794\n",
            "Validation value accuracy: 0.794\n",
            "Epoch: 51\n"
          ],
          "name": "stdout"
        },
        {
          "output_type": "stream",
          "text": [
            "100%|██████████| 10/10 [00:06<00:00,  1.61it/s]\n",
            "  0%|          | 0/10 [00:00<?, ?it/s]"
          ],
          "name": "stderr"
        },
        {
          "output_type": "stream",
          "text": [
            "Training loss: 0.0151\n",
            "Epoch: 52\n"
          ],
          "name": "stdout"
        },
        {
          "output_type": "stream",
          "text": [
            "100%|██████████| 10/10 [00:06<00:00,  1.64it/s]\n",
            "  0%|          | 0/10 [00:00<?, ?it/s]"
          ],
          "name": "stderr"
        },
        {
          "output_type": "stream",
          "text": [
            "Training loss: 0.0148\n",
            "Epoch: 53\n"
          ],
          "name": "stdout"
        },
        {
          "output_type": "stream",
          "text": [
            "100%|██████████| 10/10 [00:06<00:00,  1.63it/s]\n",
            "  0%|          | 0/10 [00:00<?, ?it/s]"
          ],
          "name": "stderr"
        },
        {
          "output_type": "stream",
          "text": [
            "Training loss: 0.0119\n",
            "Epoch: 54\n"
          ],
          "name": "stdout"
        },
        {
          "output_type": "stream",
          "text": [
            "100%|██████████| 10/10 [00:06<00:00,  1.57it/s]\n",
            "  0%|          | 0/10 [00:00<?, ?it/s]"
          ],
          "name": "stderr"
        },
        {
          "output_type": "stream",
          "text": [
            "Training loss: 0.0144\n",
            "Epoch: 55\n"
          ],
          "name": "stdout"
        },
        {
          "output_type": "stream",
          "text": [
            "100%|██████████| 10/10 [00:06<00:00,  1.62it/s]\n",
            "  0%|          | 0/10 [00:00<?, ?it/s]"
          ],
          "name": "stderr"
        },
        {
          "output_type": "stream",
          "text": [
            "Training loss: 0.0107\n",
            "Epoch: 56\n"
          ],
          "name": "stdout"
        },
        {
          "output_type": "stream",
          "text": [
            "100%|██████████| 10/10 [00:06<00:00,  1.61it/s]\n",
            "  0%|          | 0/10 [00:00<?, ?it/s]"
          ],
          "name": "stderr"
        },
        {
          "output_type": "stream",
          "text": [
            "Training loss: 0.0116\n",
            "Epoch: 57\n"
          ],
          "name": "stdout"
        },
        {
          "output_type": "stream",
          "text": [
            "100%|██████████| 10/10 [00:06<00:00,  1.60it/s]\n",
            "  0%|          | 0/10 [00:00<?, ?it/s]"
          ],
          "name": "stderr"
        },
        {
          "output_type": "stream",
          "text": [
            "Training loss: 0.0123\n",
            "Epoch: 58\n"
          ],
          "name": "stdout"
        },
        {
          "output_type": "stream",
          "text": [
            "100%|██████████| 10/10 [00:06<00:00,  1.62it/s]\n",
            "  0%|          | 0/10 [00:00<?, ?it/s]"
          ],
          "name": "stderr"
        },
        {
          "output_type": "stream",
          "text": [
            "Training loss: 0.0122\n",
            "Epoch: 59\n"
          ],
          "name": "stdout"
        },
        {
          "output_type": "stream",
          "text": [
            "100%|██████████| 10/10 [00:06<00:00,  1.63it/s]\n",
            "  0%|          | 0/10 [00:00<?, ?it/s]"
          ],
          "name": "stderr"
        },
        {
          "output_type": "stream",
          "text": [
            "Training loss: 0.0125\n",
            "Epoch: 60\n"
          ],
          "name": "stdout"
        },
        {
          "output_type": "stream",
          "text": [
            "100%|██████████| 10/10 [00:06<00:00,  1.62it/s]\n",
            "  1%|▏         | 1/68 [00:00<00:13,  5.07it/s]"
          ],
          "name": "stderr"
        },
        {
          "output_type": "stream",
          "text": [
            "Training loss: 0.0134\n"
          ],
          "name": "stdout"
        },
        {
          "output_type": "stream",
          "text": [
            " 10%|█         | 7/68 [00:02<00:29,  2.08it/s]"
          ],
          "name": "stderr"
        },
        {
          "output_type": "stream",
          "text": [
            "Malformed expression ['*', '-', '+', '-', '*', '7', '9.4', '6', '-', '+', '-', '*', '7', '9.4', '6']\n",
            "Malformed expression ['*', '-', '+', '-', '*', '7', '9.4', '6', '-', '+', '-', '*', '7', '9.4', '6']\n",
            "Malformed expression ['*', '-', '+', '-', '*', '7', '9.4', '6', '-', '+', '-', '*', '7', '9.4', '6']\n",
            "Malformed expression ['*', '-', '+', '-', '*', '7', '9.4', '6', '-', '+', '-', '*', '7', '9.4', '6']\n"
          ],
          "name": "stdout"
        },
        {
          "output_type": "stream",
          "text": [
            " 13%|█▎        | 9/68 [00:03<00:30,  1.96it/s]"
          ],
          "name": "stderr"
        },
        {
          "output_type": "stream",
          "text": [
            "Malformed expression ['*', '+', '-', '*', '7', '9.4', '8', '+', '-', '*', '7', '9.4', '8']\n",
            "Malformed expression ['*', '+', '-', '*', '7', '9.4', '8', '+', '-', '*', '7', '9.4', '8']\n"
          ],
          "name": "stdout"
        },
        {
          "output_type": "stream",
          "text": [
            " 21%|██        | 14/68 [00:05<00:23,  2.25it/s]"
          ],
          "name": "stderr"
        },
        {
          "output_type": "stream",
          "text": [
            "Malformed expression ['-', '-', '6', '*', '*', '*', '0.1', '2', '7', '+', '-', '*', '7', '6', '8']\n",
            "Malformed expression ['-', '-', '6', '*', '*', '*', '0.1', '2', '7', '+', '-', '*', '7', '6', '8']\n"
          ],
          "name": "stdout"
        },
        {
          "output_type": "stream",
          "text": [
            "\r 22%|██▏       | 15/68 [00:05<00:20,  2.60it/s]"
          ],
          "name": "stderr"
        },
        {
          "output_type": "stream",
          "text": [
            "Malformed expression ['+', '+', '-', '*', '1', '1', '*', '1', '0', '0']\n"
          ],
          "name": "stdout"
        },
        {
          "output_type": "stream",
          "text": [
            " 29%|██▉       | 20/68 [00:07<00:20,  2.29it/s]"
          ],
          "name": "stderr"
        },
        {
          "output_type": "stream",
          "text": [
            "Malformed expression ['-', '9.4', '*', '*', '*', '0.1', '2', '4', '-', '+', '*', '4', '9.4', '5']\n"
          ],
          "name": "stdout"
        },
        {
          "output_type": "stream",
          "text": [
            " 41%|████      | 28/68 [00:10<00:12,  3.10it/s]"
          ],
          "name": "stderr"
        },
        {
          "output_type": "stream",
          "text": [
            "Malformed expression ['+', '+', '-', '-', '*', '1', '1', '*', '0', '0', '3']\n",
            "Malformed expression ['+', '+', '-', '-', '*', '1', '1', '*', '0', '0', '3']\n"
          ],
          "name": "stdout"
        },
        {
          "output_type": "stream",
          "text": [
            "\r 43%|████▎     | 29/68 [00:11<00:17,  2.17it/s]"
          ],
          "name": "stderr"
        },
        {
          "output_type": "stream",
          "text": [
            "Malformed expression ['-', '+', '+', '-', '*', '0', '1', '*', '1', '0', '6']\n",
            "Malformed expression ['-', '+', '+', '-', '*', '0', '1', '*', '1', '0', '6']\n"
          ],
          "name": "stdout"
        },
        {
          "output_type": "stream",
          "text": [
            " 46%|████▌     | 31/68 [00:12<00:19,  1.94it/s]"
          ],
          "name": "stderr"
        },
        {
          "output_type": "stream",
          "text": [
            "Malformed expression ['-', '-', '6', '*', '*', '*', '0.1', '2', '10', '-', '+', '-', '*', '10', '6', '5']\n",
            "Malformed expression ['-', '-', '6', '*', '*', '*', '0.1', '2', '10', '-', '+', '-', '*', '10', '6', '5']\n",
            "Malformed expression ['-', '-', '6', '*', '*', '*', '0.1', '2', '10', '-', '+', '-', '*', '10', '6', '5']\n"
          ],
          "name": "stdout"
        },
        {
          "output_type": "stream",
          "text": [
            " 53%|█████▎    | 36/68 [00:14<00:14,  2.18it/s]"
          ],
          "name": "stderr"
        },
        {
          "output_type": "stream",
          "text": [
            "Malformed expression ['-', '-', '6', '*', '*', '*', '0.1', '2', '0.3', '+', '-', '*', '0.3', '6', '6']\n",
            "Malformed expression ['-', '-', '6', '*', '*', '*', '0.1', '2', '0.3', '+', '-', '*', '0.3', '6', '6']\n"
          ],
          "name": "stdout"
        },
        {
          "output_type": "stream",
          "text": [
            " 59%|█████▉    | 40/68 [00:16<00:14,  1.87it/s]"
          ],
          "name": "stderr"
        },
        {
          "output_type": "stream",
          "text": [
            "Malformed expression ['-', '+', '+', '*', '1', '2', '*', '1', '1', '6']\n"
          ],
          "name": "stdout"
        },
        {
          "output_type": "stream",
          "text": [
            "\r 60%|██████    | 41/68 [00:16<00:12,  2.21it/s]"
          ],
          "name": "stderr"
        },
        {
          "output_type": "stream",
          "text": [
            "Malformed expression ['+', '+', '-', '*', '1', '0', '*', '0', '1', '0.25']\n"
          ],
          "name": "stdout"
        },
        {
          "output_type": "stream",
          "text": [
            " 75%|███████▌  | 51/68 [00:18<00:04,  4.23it/s]"
          ],
          "name": "stderr"
        },
        {
          "output_type": "stream",
          "text": [
            "Malformed expression ['+', '+', '-', '*', '1', '3', '*', '0', '4', '0.25']\n"
          ],
          "name": "stdout"
        },
        {
          "output_type": "stream",
          "text": [
            "\r 76%|███████▋  | 52/68 [00:19<00:06,  2.38it/s]"
          ],
          "name": "stderr"
        },
        {
          "output_type": "stream",
          "text": [
            "Malformed expression ['-', '+', '+', '-', '*', '1', '4', '*', '0', '5', '6']\n",
            "Malformed expression ['-', '+', '+', '-', '*', '1', '4', '*', '0', '5', '6']\n"
          ],
          "name": "stdout"
        },
        {
          "output_type": "stream",
          "text": [
            " 87%|████████▋ | 59/68 [00:22<00:04,  2.06it/s]"
          ],
          "name": "stderr"
        },
        {
          "output_type": "stream",
          "text": [
            "Malformed expression ['-', '15.4', '*', '*', '*', '0.1', '2', '7', '-', '+', '*', '7', '15.4', '5']\n"
          ],
          "name": "stdout"
        },
        {
          "output_type": "stream",
          "text": [
            "100%|██████████| 68/68 [00:24<00:00,  2.82it/s]\n",
            "  0%|          | 0/10 [00:00<?, ?it/s]"
          ],
          "name": "stderr"
        },
        {
          "output_type": "stream",
          "text": [
            "Validation expression accuracy: 0.794\n",
            "Validation value accuracy: 0.794\n",
            "Epoch: 61\n"
          ],
          "name": "stdout"
        },
        {
          "output_type": "stream",
          "text": [
            "100%|██████████| 10/10 [00:06<00:00,  1.61it/s]\n",
            "  0%|          | 0/10 [00:00<?, ?it/s]"
          ],
          "name": "stderr"
        },
        {
          "output_type": "stream",
          "text": [
            "Training loss: 0.0145\n",
            "Epoch: 62\n"
          ],
          "name": "stdout"
        },
        {
          "output_type": "stream",
          "text": [
            "100%|██████████| 10/10 [00:06<00:00,  1.63it/s]\n",
            "  0%|          | 0/10 [00:00<?, ?it/s]"
          ],
          "name": "stderr"
        },
        {
          "output_type": "stream",
          "text": [
            "Training loss: 0.0126\n",
            "Epoch: 63\n"
          ],
          "name": "stdout"
        },
        {
          "output_type": "stream",
          "text": [
            "100%|██████████| 10/10 [00:06<00:00,  1.62it/s]\n",
            "  0%|          | 0/10 [00:00<?, ?it/s]"
          ],
          "name": "stderr"
        },
        {
          "output_type": "stream",
          "text": [
            "Training loss: 0.00996\n",
            "Epoch: 64\n"
          ],
          "name": "stdout"
        },
        {
          "output_type": "stream",
          "text": [
            "100%|██████████| 10/10 [00:06<00:00,  1.61it/s]\n",
            "  0%|          | 0/10 [00:00<?, ?it/s]"
          ],
          "name": "stderr"
        },
        {
          "output_type": "stream",
          "text": [
            "Training loss: 0.00878\n",
            "Epoch: 65\n"
          ],
          "name": "stdout"
        },
        {
          "output_type": "stream",
          "text": [
            "100%|██████████| 10/10 [00:06<00:00,  1.62it/s]\n",
            "  0%|          | 0/10 [00:00<?, ?it/s]"
          ],
          "name": "stderr"
        },
        {
          "output_type": "stream",
          "text": [
            "Training loss: 0.00884\n",
            "Epoch: 66\n"
          ],
          "name": "stdout"
        },
        {
          "output_type": "stream",
          "text": [
            "100%|██████████| 10/10 [00:06<00:00,  1.62it/s]\n",
            "  0%|          | 0/10 [00:00<?, ?it/s]"
          ],
          "name": "stderr"
        },
        {
          "output_type": "stream",
          "text": [
            "Training loss: 0.00939\n",
            "Epoch: 67\n"
          ],
          "name": "stdout"
        },
        {
          "output_type": "stream",
          "text": [
            "100%|██████████| 10/10 [00:06<00:00,  1.57it/s]\n",
            "  0%|          | 0/10 [00:00<?, ?it/s]"
          ],
          "name": "stderr"
        },
        {
          "output_type": "stream",
          "text": [
            "Training loss: 0.00781\n",
            "Epoch: 68\n"
          ],
          "name": "stdout"
        },
        {
          "output_type": "stream",
          "text": [
            "100%|██████████| 10/10 [00:06<00:00,  1.63it/s]\n",
            "  0%|          | 0/10 [00:00<?, ?it/s]"
          ],
          "name": "stderr"
        },
        {
          "output_type": "stream",
          "text": [
            "Training loss: 0.00807\n",
            "Epoch: 69\n"
          ],
          "name": "stdout"
        },
        {
          "output_type": "stream",
          "text": [
            "100%|██████████| 10/10 [00:06<00:00,  1.63it/s]\n",
            "  0%|          | 0/10 [00:00<?, ?it/s]"
          ],
          "name": "stderr"
        },
        {
          "output_type": "stream",
          "text": [
            "Training loss: 0.00743\n",
            "Epoch: 70\n"
          ],
          "name": "stdout"
        },
        {
          "output_type": "stream",
          "text": [
            "100%|██████████| 10/10 [00:06<00:00,  1.63it/s]\n",
            "  1%|▏         | 1/68 [00:00<00:12,  5.21it/s]"
          ],
          "name": "stderr"
        },
        {
          "output_type": "stream",
          "text": [
            "Training loss: 0.00757\n"
          ],
          "name": "stdout"
        },
        {
          "output_type": "stream",
          "text": [
            " 10%|█         | 7/68 [00:02<00:29,  2.04it/s]"
          ],
          "name": "stderr"
        },
        {
          "output_type": "stream",
          "text": [
            "Malformed expression ['*', '-', '+', '-', '*', '7', '9.4', '6', '-', '+', '-', '*', '7', '9.4', '6']\n",
            "Malformed expression ['*', '-', '+', '-', '*', '7', '9.4', '6', '-', '+', '-', '*', '7', '9.4', '6']\n",
            "Malformed expression ['*', '-', '+', '-', '*', '7', '9.4', '6', '-', '+', '-', '*', '7', '9.4', '6']\n",
            "Malformed expression ['*', '-', '+', '-', '*', '7', '9.4', '6', '-', '+', '-', '*', '7', '9.4', '6']\n"
          ],
          "name": "stdout"
        },
        {
          "output_type": "stream",
          "text": [
            " 13%|█▎        | 9/68 [00:03<00:30,  1.97it/s]"
          ],
          "name": "stderr"
        },
        {
          "output_type": "stream",
          "text": [
            "Malformed expression ['*', '+', '-', '*', '7', '9.4', '8', '+', '-', '*', '7', '9.4', '8']\n",
            "Malformed expression ['*', '+', '-', '*', '7', '9.4', '8', '+', '-', '*', '7', '9.4', '8']\n"
          ],
          "name": "stdout"
        },
        {
          "output_type": "stream",
          "text": [
            " 21%|██        | 14/68 [00:05<00:24,  2.21it/s]"
          ],
          "name": "stderr"
        },
        {
          "output_type": "stream",
          "text": [
            "Malformed expression ['-', '-', '6', '*', '*', '*', '0.1', '2', '7', '+', '-', '*', '7', '6', '8']\n",
            "Malformed expression ['-', '-', '6', '*', '*', '*', '0.1', '2', '7', '+', '-', '*', '7', '6', '8']\n"
          ],
          "name": "stdout"
        },
        {
          "output_type": "stream",
          "text": [
            "\r 22%|██▏       | 15/68 [00:05<00:20,  2.54it/s]"
          ],
          "name": "stderr"
        },
        {
          "output_type": "stream",
          "text": [
            "Malformed expression ['+', '+', '-', '*', '1', '1', '*', '1', '0', '0']\n"
          ],
          "name": "stdout"
        },
        {
          "output_type": "stream",
          "text": [
            " 29%|██▉       | 20/68 [00:07<00:20,  2.32it/s]"
          ],
          "name": "stderr"
        },
        {
          "output_type": "stream",
          "text": [
            "Malformed expression ['-', '9.4', '*', '*', '*', '0.1', '2', '4', '-', '+', '*', '4', '9.4', '5']\n"
          ],
          "name": "stdout"
        },
        {
          "output_type": "stream",
          "text": [
            " 41%|████      | 28/68 [00:10<00:12,  3.12it/s]"
          ],
          "name": "stderr"
        },
        {
          "output_type": "stream",
          "text": [
            "Malformed expression ['+', '+', '-', '-', '*', '1', '1', '*', '0', '0', '3']\n",
            "Malformed expression ['+', '+', '-', '-', '*', '1', '1', '*', '0', '0', '3']\n"
          ],
          "name": "stdout"
        },
        {
          "output_type": "stream",
          "text": [
            "\r 43%|████▎     | 29/68 [00:10<00:17,  2.27it/s]"
          ],
          "name": "stderr"
        },
        {
          "output_type": "stream",
          "text": [
            "Malformed expression ['-', '+', '+', '-', '*', '0', '1', '*', '1', '0', '6']\n",
            "Malformed expression ['-', '+', '+', '-', '*', '0', '1', '*', '1', '0', '6']\n"
          ],
          "name": "stdout"
        },
        {
          "output_type": "stream",
          "text": [
            " 46%|████▌     | 31/68 [00:12<00:18,  1.97it/s]"
          ],
          "name": "stderr"
        },
        {
          "output_type": "stream",
          "text": [
            "Malformed expression ['-', '-', '6', '*', '*', '*', '0.1', '2', '10', '-', '+', '-', '*', '10', '6', '5']\n",
            "Malformed expression ['-', '-', '6', '*', '*', '*', '0.1', '2', '10', '-', '+', '-', '*', '10', '6', '5']\n",
            "Malformed expression ['-', '-', '6', '*', '*', '*', '0.1', '2', '10', '-', '+', '-', '*', '10', '6', '5']\n"
          ],
          "name": "stdout"
        },
        {
          "output_type": "stream",
          "text": [
            " 53%|█████▎    | 36/68 [00:14<00:14,  2.19it/s]"
          ],
          "name": "stderr"
        },
        {
          "output_type": "stream",
          "text": [
            "Malformed expression ['-', '-', '6', '*', '*', '*', '0.1', '2', '0.3', '+', '-', '*', '0.3', '6', '6']\n",
            "Malformed expression ['-', '-', '6', '*', '*', '*', '0.1', '2', '0.3', '+', '-', '*', '0.3', '6', '6']\n"
          ],
          "name": "stdout"
        },
        {
          "output_type": "stream",
          "text": [
            " 59%|█████▉    | 40/68 [00:16<00:14,  1.89it/s]"
          ],
          "name": "stderr"
        },
        {
          "output_type": "stream",
          "text": [
            "Malformed expression ['-', '+', '+', '*', '1', '2', '*', '1', '1', '6']\n"
          ],
          "name": "stdout"
        },
        {
          "output_type": "stream",
          "text": [
            "\r 60%|██████    | 41/68 [00:16<00:12,  2.22it/s]"
          ],
          "name": "stderr"
        },
        {
          "output_type": "stream",
          "text": [
            "Malformed expression ['+', '+', '-', '*', '1', '0', '*', '0', '1', '0.25']\n"
          ],
          "name": "stdout"
        },
        {
          "output_type": "stream",
          "text": [
            " 75%|███████▌  | 51/68 [00:18<00:03,  4.40it/s]"
          ],
          "name": "stderr"
        },
        {
          "output_type": "stream",
          "text": [
            "Malformed expression ['+', '+', '-', '*', '1', '3', '*', '0', '4', '0.25']\n"
          ],
          "name": "stdout"
        },
        {
          "output_type": "stream",
          "text": [
            "\r 76%|███████▋  | 52/68 [00:18<00:04,  3.35it/s]"
          ],
          "name": "stderr"
        },
        {
          "output_type": "stream",
          "text": [
            "Malformed expression ['-', '+', '+', '-', '*', '1', '4', '*', '0', '5', '6']\n",
            "Malformed expression ['-', '+', '+', '-', '*', '1', '4', '*', '0', '5', '6']\n"
          ],
          "name": "stdout"
        },
        {
          "output_type": "stream",
          "text": [
            " 87%|████████▋ | 59/68 [00:21<00:04,  2.05it/s]"
          ],
          "name": "stderr"
        },
        {
          "output_type": "stream",
          "text": [
            "Malformed expression ['-', '15.4', '*', '*', '*', '0.1', '2', '7', '-', '+', '*', '7', '15.4', '5']\n"
          ],
          "name": "stdout"
        },
        {
          "output_type": "stream",
          "text": [
            "100%|██████████| 68/68 [00:23<00:00,  2.90it/s]\n",
            "  0%|          | 0/10 [00:00<?, ?it/s]"
          ],
          "name": "stderr"
        },
        {
          "output_type": "stream",
          "text": [
            "Validation expression accuracy: 0.794\n",
            "Validation value accuracy: 0.794\n",
            "Epoch: 71\n"
          ],
          "name": "stdout"
        },
        {
          "output_type": "stream",
          "text": [
            "100%|██████████| 10/10 [00:06<00:00,  1.63it/s]\n",
            "  0%|          | 0/10 [00:00<?, ?it/s]"
          ],
          "name": "stderr"
        },
        {
          "output_type": "stream",
          "text": [
            "Training loss: 0.00778\n",
            "Epoch: 72\n"
          ],
          "name": "stdout"
        },
        {
          "output_type": "stream",
          "text": [
            "100%|██████████| 10/10 [00:06<00:00,  1.65it/s]\n",
            "  0%|          | 0/10 [00:00<?, ?it/s]"
          ],
          "name": "stderr"
        },
        {
          "output_type": "stream",
          "text": [
            "Training loss: 0.0075\n",
            "Epoch: 73\n"
          ],
          "name": "stdout"
        },
        {
          "output_type": "stream",
          "text": [
            "100%|██████████| 10/10 [00:06<00:00,  1.64it/s]\n",
            "  0%|          | 0/10 [00:00<?, ?it/s]"
          ],
          "name": "stderr"
        },
        {
          "output_type": "stream",
          "text": [
            "Training loss: 0.00565\n",
            "Epoch: 74\n"
          ],
          "name": "stdout"
        },
        {
          "output_type": "stream",
          "text": [
            "100%|██████████| 10/10 [00:06<00:00,  1.57it/s]\n",
            "  0%|          | 0/10 [00:00<?, ?it/s]"
          ],
          "name": "stderr"
        },
        {
          "output_type": "stream",
          "text": [
            "Training loss: 0.00682\n",
            "Epoch: 75\n"
          ],
          "name": "stdout"
        },
        {
          "output_type": "stream",
          "text": [
            "100%|██████████| 10/10 [00:06<00:00,  1.61it/s]\n",
            "  0%|          | 0/10 [00:00<?, ?it/s]"
          ],
          "name": "stderr"
        },
        {
          "output_type": "stream",
          "text": [
            "Training loss: 0.00631\n",
            "Epoch: 76\n"
          ],
          "name": "stdout"
        },
        {
          "output_type": "stream",
          "text": [
            "100%|██████████| 10/10 [00:06<00:00,  1.62it/s]\n",
            "  0%|          | 0/10 [00:00<?, ?it/s]"
          ],
          "name": "stderr"
        },
        {
          "output_type": "stream",
          "text": [
            "Training loss: 0.00772\n",
            "Epoch: 77\n"
          ],
          "name": "stdout"
        },
        {
          "output_type": "stream",
          "text": [
            "100%|██████████| 10/10 [00:06<00:00,  1.63it/s]\n",
            "  0%|          | 0/10 [00:00<?, ?it/s]"
          ],
          "name": "stderr"
        },
        {
          "output_type": "stream",
          "text": [
            "Training loss: 0.00658\n",
            "Epoch: 78\n"
          ],
          "name": "stdout"
        },
        {
          "output_type": "stream",
          "text": [
            "100%|██████████| 10/10 [00:06<00:00,  1.64it/s]\n",
            "  0%|          | 0/10 [00:00<?, ?it/s]"
          ],
          "name": "stderr"
        },
        {
          "output_type": "stream",
          "text": [
            "Training loss: 0.00629\n",
            "Epoch: 79\n"
          ],
          "name": "stdout"
        },
        {
          "output_type": "stream",
          "text": [
            "100%|██████████| 10/10 [00:06<00:00,  1.64it/s]\n",
            "  0%|          | 0/10 [00:00<?, ?it/s]"
          ],
          "name": "stderr"
        },
        {
          "output_type": "stream",
          "text": [
            "Training loss: 0.00629\n",
            "Epoch: 80\n"
          ],
          "name": "stdout"
        },
        {
          "output_type": "stream",
          "text": [
            "100%|██████████| 10/10 [00:06<00:00,  1.62it/s]\n",
            "  0%|          | 0/68 [00:00<?, ?it/s]"
          ],
          "name": "stderr"
        },
        {
          "output_type": "stream",
          "text": [
            "Training loss: 0.00542\n"
          ],
          "name": "stdout"
        },
        {
          "output_type": "stream",
          "text": [
            " 10%|█         | 7/68 [00:02<00:31,  1.95it/s]"
          ],
          "name": "stderr"
        },
        {
          "output_type": "stream",
          "text": [
            "Malformed expression ['*', '-', '+', '-', '*', '7', '9.4', '6', '-', '+', '-', '*', '7', '9.4', '6']\n",
            "Malformed expression ['*', '-', '+', '-', '*', '7', '9.4', '6', '-', '+', '-', '*', '7', '9.4', '6']\n",
            "Malformed expression ['*', '-', '+', '-', '*', '7', '9.4', '6', '-', '+', '-', '*', '7', '9.4', '6']\n",
            "Malformed expression ['*', '-', '+', '-', '*', '7', '9.4', '6', '-', '+', '-', '*', '7', '9.4', '6']\n"
          ],
          "name": "stdout"
        },
        {
          "output_type": "stream",
          "text": [
            " 13%|█▎        | 9/68 [00:03<00:33,  1.76it/s]"
          ],
          "name": "stderr"
        },
        {
          "output_type": "stream",
          "text": [
            "Malformed expression ['*', '+', '-', '*', '7', '9.4', '8', '+', '-', '*', '7', '9.4', '8']\n",
            "Malformed expression ['*', '+', '-', '*', '7', '9.4', '8', '+', '-', '*', '7', '9.4', '8']\n"
          ],
          "name": "stdout"
        },
        {
          "output_type": "stream",
          "text": [
            " 21%|██        | 14/68 [00:05<00:24,  2.17it/s]"
          ],
          "name": "stderr"
        },
        {
          "output_type": "stream",
          "text": [
            "Malformed expression ['-', '-', '6', '*', '*', '*', '0.1', '2', '7', '+', '-', '*', '7', '6', '8']\n",
            "Malformed expression ['-', '-', '6', '*', '*', '*', '0.1', '2', '7', '+', '-', '*', '7', '6', '8']\n"
          ],
          "name": "stdout"
        },
        {
          "output_type": "stream",
          "text": [
            "\r 22%|██▏       | 15/68 [00:06<00:20,  2.52it/s]"
          ],
          "name": "stderr"
        },
        {
          "output_type": "stream",
          "text": [
            "Malformed expression ['+', '+', '-', '*', '1', '1', '*', '1', '0', '0']\n"
          ],
          "name": "stdout"
        },
        {
          "output_type": "stream",
          "text": [
            " 29%|██▉       | 20/68 [00:08<00:21,  2.28it/s]"
          ],
          "name": "stderr"
        },
        {
          "output_type": "stream",
          "text": [
            "Malformed expression ['-', '9.4', '*', '*', '*', '0.1', '2', '4', '-', '+', '*', '4', '9.4', '5']\n"
          ],
          "name": "stdout"
        },
        {
          "output_type": "stream",
          "text": [
            " 41%|████      | 28/68 [00:10<00:12,  3.09it/s]"
          ],
          "name": "stderr"
        },
        {
          "output_type": "stream",
          "text": [
            "Malformed expression ['+', '+', '-', '-', '*', '1', '1', '*', '0', '0', '3']\n",
            "Malformed expression ['+', '+', '-', '-', '*', '1', '1', '*', '0', '0', '3']\n"
          ],
          "name": "stdout"
        },
        {
          "output_type": "stream",
          "text": [
            "\r 43%|████▎     | 29/68 [00:11<00:13,  2.85it/s]"
          ],
          "name": "stderr"
        },
        {
          "output_type": "stream",
          "text": [
            "Malformed expression ['-', '+', '+', '-', '*', '0', '1', '*', '1', '0', '6']\n",
            "Malformed expression ['-', '+', '+', '-', '*', '0', '1', '*', '1', '0', '6']\n"
          ],
          "name": "stdout"
        },
        {
          "output_type": "stream",
          "text": [
            " 46%|████▌     | 31/68 [00:12<00:17,  2.17it/s]"
          ],
          "name": "stderr"
        },
        {
          "output_type": "stream",
          "text": [
            "Malformed expression ['-', '-', '6', '*', '*', '*', '0.1', '2', '10', '-', '+', '-', '*', '10', '6', '5']\n",
            "Malformed expression ['-', '-', '6', '*', '*', '*', '0.1', '2', '10', '-', '+', '-', '*', '10', '6', '5']\n",
            "Malformed expression ['-', '-', '6', '*', '*', '*', '0.1', '2', '10', '-', '+', '-', '*', '10', '6', '5']\n"
          ],
          "name": "stdout"
        },
        {
          "output_type": "stream",
          "text": [
            " 53%|█████▎    | 36/68 [00:14<00:14,  2.27it/s]"
          ],
          "name": "stderr"
        },
        {
          "output_type": "stream",
          "text": [
            "Malformed expression ['-', '-', '6', '*', '*', '*', '0.1', '2', '0.3', '+', '-', '*', '0.3', '6', '6']\n",
            "Malformed expression ['-', '-', '6', '*', '*', '*', '0.1', '2', '0.3', '+', '-', '*', '0.3', '6', '6']\n"
          ],
          "name": "stdout"
        },
        {
          "output_type": "stream",
          "text": [
            " 59%|█████▉    | 40/68 [00:16<00:14,  1.94it/s]"
          ],
          "name": "stderr"
        },
        {
          "output_type": "stream",
          "text": [
            "Malformed expression ['-', '+', '+', '*', '1', '2', '*', '1', '1', '6']\n"
          ],
          "name": "stdout"
        },
        {
          "output_type": "stream",
          "text": [
            "\r 60%|██████    | 41/68 [00:16<00:11,  2.27it/s]"
          ],
          "name": "stderr"
        },
        {
          "output_type": "stream",
          "text": [
            "Malformed expression ['+', '+', '-', '*', '1', '0', '*', '0', '1', '0.25']\n"
          ],
          "name": "stdout"
        },
        {
          "output_type": "stream",
          "text": [
            " 75%|███████▌  | 51/68 [00:18<00:03,  4.45it/s]"
          ],
          "name": "stderr"
        },
        {
          "output_type": "stream",
          "text": [
            "Malformed expression ['+', '+', '-', '*', '1', '3', '*', '0', '4', '0.25']\n"
          ],
          "name": "stdout"
        },
        {
          "output_type": "stream",
          "text": [
            "\r 76%|███████▋  | 52/68 [00:18<00:05,  3.11it/s]"
          ],
          "name": "stderr"
        },
        {
          "output_type": "stream",
          "text": [
            "Malformed expression ['-', '+', '+', '-', '*', '1', '4', '*', '0', '5', '6']\n",
            "Malformed expression ['-', '+', '+', '-', '*', '1', '4', '*', '0', '5', '6']\n"
          ],
          "name": "stdout"
        },
        {
          "output_type": "stream",
          "text": [
            " 87%|████████▋ | 59/68 [00:21<00:04,  2.11it/s]"
          ],
          "name": "stderr"
        },
        {
          "output_type": "stream",
          "text": [
            "Malformed expression ['-', '15.4', '*', '*', '*', '0.1', '2', '7', '-', '+', '*', '7', '15.4', '5']\n"
          ],
          "name": "stdout"
        },
        {
          "output_type": "stream",
          "text": [
            "100%|██████████| 68/68 [00:23<00:00,  2.91it/s]\n",
            "  0%|          | 0/10 [00:00<?, ?it/s]"
          ],
          "name": "stderr"
        },
        {
          "output_type": "stream",
          "text": [
            "Validation expression accuracy: 0.794\n",
            "Validation value accuracy: 0.794\n",
            "Epoch: 81\n"
          ],
          "name": "stdout"
        },
        {
          "output_type": "stream",
          "text": [
            "100%|██████████| 10/10 [00:06<00:00,  1.63it/s]\n",
            "  0%|          | 0/10 [00:00<?, ?it/s]"
          ],
          "name": "stderr"
        },
        {
          "output_type": "stream",
          "text": [
            "Training loss: 0.0055\n",
            "Epoch: 82\n"
          ],
          "name": "stdout"
        },
        {
          "output_type": "stream",
          "text": [
            "100%|██████████| 10/10 [00:06<00:00,  1.63it/s]\n",
            "  0%|          | 0/10 [00:00<?, ?it/s]"
          ],
          "name": "stderr"
        },
        {
          "output_type": "stream",
          "text": [
            "Training loss: 0.00619\n",
            "Epoch: 83\n"
          ],
          "name": "stdout"
        },
        {
          "output_type": "stream",
          "text": [
            "100%|██████████| 10/10 [00:06<00:00,  1.64it/s]\n",
            "  0%|          | 0/10 [00:00<?, ?it/s]"
          ],
          "name": "stderr"
        },
        {
          "output_type": "stream",
          "text": [
            "Training loss: 0.00618\n",
            "Epoch: 84\n"
          ],
          "name": "stdout"
        },
        {
          "output_type": "stream",
          "text": [
            "100%|██████████| 10/10 [00:06<00:00,  1.63it/s]\n",
            "  0%|          | 0/10 [00:00<?, ?it/s]"
          ],
          "name": "stderr"
        },
        {
          "output_type": "stream",
          "text": [
            "Training loss: 0.00604\n",
            "Epoch: 85\n"
          ],
          "name": "stdout"
        },
        {
          "output_type": "stream",
          "text": [
            "100%|██████████| 10/10 [00:06<00:00,  1.62it/s]\n",
            "  0%|          | 0/10 [00:00<?, ?it/s]"
          ],
          "name": "stderr"
        },
        {
          "output_type": "stream",
          "text": [
            "Training loss: 0.00657\n",
            "Epoch: 86\n"
          ],
          "name": "stdout"
        },
        {
          "output_type": "stream",
          "text": [
            "100%|██████████| 10/10 [00:06<00:00,  1.61it/s]\n",
            "  0%|          | 0/10 [00:00<?, ?it/s]"
          ],
          "name": "stderr"
        },
        {
          "output_type": "stream",
          "text": [
            "Training loss: 0.00537\n",
            "Epoch: 87\n"
          ],
          "name": "stdout"
        },
        {
          "output_type": "stream",
          "text": [
            "100%|██████████| 10/10 [00:06<00:00,  1.58it/s]\n",
            "  0%|          | 0/10 [00:00<?, ?it/s]"
          ],
          "name": "stderr"
        },
        {
          "output_type": "stream",
          "text": [
            "Training loss: 0.00659\n",
            "Epoch: 88\n"
          ],
          "name": "stdout"
        },
        {
          "output_type": "stream",
          "text": [
            "100%|██████████| 10/10 [00:06<00:00,  1.63it/s]\n",
            "  0%|          | 0/10 [00:00<?, ?it/s]"
          ],
          "name": "stderr"
        },
        {
          "output_type": "stream",
          "text": [
            "Training loss: 0.0055\n",
            "Epoch: 89\n"
          ],
          "name": "stdout"
        },
        {
          "output_type": "stream",
          "text": [
            "100%|██████████| 10/10 [00:06<00:00,  1.64it/s]\n",
            "  0%|          | 0/10 [00:00<?, ?it/s]"
          ],
          "name": "stderr"
        },
        {
          "output_type": "stream",
          "text": [
            "Training loss: 0.00492\n",
            "Epoch: 90\n"
          ],
          "name": "stdout"
        },
        {
          "output_type": "stream",
          "text": [
            "100%|██████████| 10/10 [00:06<00:00,  1.64it/s]\n",
            "  1%|▏         | 1/68 [00:00<00:12,  5.32it/s]"
          ],
          "name": "stderr"
        },
        {
          "output_type": "stream",
          "text": [
            "Training loss: 0.00591\n"
          ],
          "name": "stdout"
        },
        {
          "output_type": "stream",
          "text": [
            " 10%|█         | 7/68 [00:02<00:30,  1.99it/s]"
          ],
          "name": "stderr"
        },
        {
          "output_type": "stream",
          "text": [
            "Malformed expression ['*', '-', '+', '-', '*', '7', '9.4', '6', '-', '+', '-', '*', '7', '9.4', '6']\n",
            "Malformed expression ['*', '-', '+', '-', '*', '7', '9.4', '6', '-', '+', '-', '*', '7', '9.4', '6']\n",
            "Malformed expression ['*', '-', '+', '-', '*', '7', '9.4', '6', '-', '+', '-', '*', '7', '9.4', '6']\n",
            "Malformed expression ['*', '-', '+', '-', '*', '7', '9.4', '6', '-', '+', '-', '*', '7', '9.4', '6']\n"
          ],
          "name": "stdout"
        },
        {
          "output_type": "stream",
          "text": [
            " 13%|█▎        | 9/68 [00:03<00:30,  1.91it/s]"
          ],
          "name": "stderr"
        },
        {
          "output_type": "stream",
          "text": [
            "Malformed expression ['*', '+', '-', '*', '7', '9.4', '8', '+', '-', '*', '7', '9.4', '8']\n",
            "Malformed expression ['*', '+', '-', '*', '7', '9.4', '8', '+', '-', '*', '7', '9.4', '8']\n"
          ],
          "name": "stdout"
        },
        {
          "output_type": "stream",
          "text": [
            " 21%|██        | 14/68 [00:05<00:24,  2.17it/s]"
          ],
          "name": "stderr"
        },
        {
          "output_type": "stream",
          "text": [
            "Malformed expression ['-', '-', '6', '*', '*', '*', '0.1', '2', '7', '+', '-', '*', '7', '6', '8']\n",
            "Malformed expression ['-', '-', '6', '*', '*', '*', '0.1', '2', '7', '+', '-', '*', '7', '6', '8']\n"
          ],
          "name": "stdout"
        },
        {
          "output_type": "stream",
          "text": [
            "\r 22%|██▏       | 15/68 [00:06<00:21,  2.51it/s]"
          ],
          "name": "stderr"
        },
        {
          "output_type": "stream",
          "text": [
            "Malformed expression ['+', '+', '-', '*', '1', '1', '*', '1', '0', '0']\n"
          ],
          "name": "stdout"
        },
        {
          "output_type": "stream",
          "text": [
            " 29%|██▉       | 20/68 [00:08<00:21,  2.26it/s]"
          ],
          "name": "stderr"
        },
        {
          "output_type": "stream",
          "text": [
            "Malformed expression ['-', '9.4', '*', '*', '*', '0.1', '2', '4', '-', '+', '*', '4', '9.4', '5']\n"
          ],
          "name": "stdout"
        },
        {
          "output_type": "stream",
          "text": [
            " 41%|████      | 28/68 [00:10<00:13,  3.04it/s]"
          ],
          "name": "stderr"
        },
        {
          "output_type": "stream",
          "text": [
            "Malformed expression ['+', '+', '-', '-', '*', '1', '1', '*', '0', '0', '3']\n",
            "Malformed expression ['+', '+', '-', '-', '*', '1', '1', '*', '0', '0', '3']\n"
          ],
          "name": "stdout"
        },
        {
          "output_type": "stream",
          "text": [
            "\r 43%|████▎     | 29/68 [00:10<00:13,  2.83it/s]"
          ],
          "name": "stderr"
        },
        {
          "output_type": "stream",
          "text": [
            "Malformed expression ['-', '+', '+', '-', '*', '0', '1', '*', '1', '0', '6']\n",
            "Malformed expression ['-', '+', '+', '-', '*', '0', '1', '*', '1', '0', '6']\n"
          ],
          "name": "stdout"
        },
        {
          "output_type": "stream",
          "text": [
            " 46%|████▌     | 31/68 [00:12<00:17,  2.16it/s]"
          ],
          "name": "stderr"
        },
        {
          "output_type": "stream",
          "text": [
            "Malformed expression ['-', '-', '6', '*', '*', '*', '0.1', '2', '10', '-', '+', '-', '*', '10', '6', '5']\n",
            "Malformed expression ['-', '-', '6', '*', '*', '*', '0.1', '2', '10', '-', '+', '-', '*', '10', '6', '5']\n",
            "Malformed expression ['-', '-', '6', '*', '*', '*', '0.1', '2', '10', '-', '+', '-', '*', '10', '6', '5']\n"
          ],
          "name": "stdout"
        },
        {
          "output_type": "stream",
          "text": [
            " 53%|█████▎    | 36/68 [00:14<00:13,  2.29it/s]"
          ],
          "name": "stderr"
        },
        {
          "output_type": "stream",
          "text": [
            "Malformed expression ['-', '-', '6', '*', '*', '*', '0.1', '2', '0.3', '+', '-', '*', '0.3', '6', '6']\n",
            "Malformed expression ['-', '-', '6', '*', '*', '*', '0.1', '2', '0.3', '+', '-', '*', '0.3', '6', '6']\n"
          ],
          "name": "stdout"
        },
        {
          "output_type": "stream",
          "text": [
            " 59%|█████▉    | 40/68 [00:15<00:14,  1.94it/s]"
          ],
          "name": "stderr"
        },
        {
          "output_type": "stream",
          "text": [
            "Malformed expression ['-', '+', '+', '*', '1', '2', '*', '1', '1', '6']\n"
          ],
          "name": "stdout"
        },
        {
          "output_type": "stream",
          "text": [
            "\r 60%|██████    | 41/68 [00:16<00:11,  2.29it/s]"
          ],
          "name": "stderr"
        },
        {
          "output_type": "stream",
          "text": [
            "Malformed expression ['+', '+', '-', '*', '1', '0', '*', '0', '1', '0.25']\n"
          ],
          "name": "stdout"
        },
        {
          "output_type": "stream",
          "text": [
            " 75%|███████▌  | 51/68 [00:18<00:03,  4.49it/s]"
          ],
          "name": "stderr"
        },
        {
          "output_type": "stream",
          "text": [
            "Malformed expression ['+', '+', '-', '*', '1', '3', '*', '0', '4', '0.25']\n"
          ],
          "name": "stdout"
        },
        {
          "output_type": "stream",
          "text": [
            "\r 76%|███████▋  | 52/68 [00:18<00:05,  3.08it/s]"
          ],
          "name": "stderr"
        },
        {
          "output_type": "stream",
          "text": [
            "Malformed expression ['-', '+', '+', '-', '*', '1', '4', '*', '0', '5', '6']\n",
            "Malformed expression ['-', '+', '+', '-', '*', '1', '4', '*', '0', '5', '6']\n"
          ],
          "name": "stdout"
        },
        {
          "output_type": "stream",
          "text": [
            " 87%|████████▋ | 59/68 [00:21<00:04,  2.08it/s]"
          ],
          "name": "stderr"
        },
        {
          "output_type": "stream",
          "text": [
            "Malformed expression ['-', '15.4', '*', '*', '*', '0.1', '2', '7', '-', '+', '*', '7', '15.4', '5']\n"
          ],
          "name": "stdout"
        },
        {
          "output_type": "stream",
          "text": [
            "100%|██████████| 68/68 [00:23<00:00,  2.92it/s]\n",
            "  0%|          | 0/10 [00:00<?, ?it/s]"
          ],
          "name": "stderr"
        },
        {
          "output_type": "stream",
          "text": [
            "Validation expression accuracy: 0.794\n",
            "Validation value accuracy: 0.794\n",
            "Epoch: 91\n"
          ],
          "name": "stdout"
        },
        {
          "output_type": "stream",
          "text": [
            "100%|██████████| 10/10 [00:06<00:00,  1.64it/s]\n",
            "  0%|          | 0/10 [00:00<?, ?it/s]"
          ],
          "name": "stderr"
        },
        {
          "output_type": "stream",
          "text": [
            "Training loss: 0.00573\n",
            "Epoch: 92\n"
          ],
          "name": "stdout"
        },
        {
          "output_type": "stream",
          "text": [
            "100%|██████████| 10/10 [00:06<00:00,  1.62it/s]\n",
            "  0%|          | 0/10 [00:00<?, ?it/s]"
          ],
          "name": "stderr"
        },
        {
          "output_type": "stream",
          "text": [
            "Training loss: 0.00541\n",
            "Epoch: 93\n"
          ],
          "name": "stdout"
        },
        {
          "output_type": "stream",
          "text": [
            "100%|██████████| 10/10 [00:06<00:00,  1.58it/s]\n",
            "  0%|          | 0/10 [00:00<?, ?it/s]"
          ],
          "name": "stderr"
        },
        {
          "output_type": "stream",
          "text": [
            "Training loss: 0.00575\n",
            "Epoch: 94\n"
          ],
          "name": "stdout"
        },
        {
          "output_type": "stream",
          "text": [
            "100%|██████████| 10/10 [00:06<00:00,  1.63it/s]\n",
            "  0%|          | 0/10 [00:00<?, ?it/s]"
          ],
          "name": "stderr"
        },
        {
          "output_type": "stream",
          "text": [
            "Training loss: 0.00467\n",
            "Epoch: 95\n"
          ],
          "name": "stdout"
        },
        {
          "output_type": "stream",
          "text": [
            "100%|██████████| 10/10 [00:06<00:00,  1.63it/s]\n",
            "  0%|          | 0/10 [00:00<?, ?it/s]"
          ],
          "name": "stderr"
        },
        {
          "output_type": "stream",
          "text": [
            "Training loss: 0.00497\n",
            "Epoch: 96\n"
          ],
          "name": "stdout"
        },
        {
          "output_type": "stream",
          "text": [
            "100%|██████████| 10/10 [00:06<00:00,  1.63it/s]\n",
            "  0%|          | 0/10 [00:00<?, ?it/s]"
          ],
          "name": "stderr"
        },
        {
          "output_type": "stream",
          "text": [
            "Training loss: 0.00495\n",
            "Epoch: 97\n"
          ],
          "name": "stdout"
        },
        {
          "output_type": "stream",
          "text": [
            "100%|██████████| 10/10 [00:06<00:00,  1.60it/s]\n",
            "  0%|          | 0/10 [00:00<?, ?it/s]"
          ],
          "name": "stderr"
        },
        {
          "output_type": "stream",
          "text": [
            "Training loss: 0.00503\n",
            "Epoch: 98\n"
          ],
          "name": "stdout"
        },
        {
          "output_type": "stream",
          "text": [
            "100%|██████████| 10/10 [00:06<00:00,  1.61it/s]\n",
            "  0%|          | 0/10 [00:00<?, ?it/s]"
          ],
          "name": "stderr"
        },
        {
          "output_type": "stream",
          "text": [
            "Training loss: 0.00533\n",
            "Epoch: 99\n"
          ],
          "name": "stdout"
        },
        {
          "output_type": "stream",
          "text": [
            "100%|██████████| 10/10 [00:06<00:00,  1.63it/s]\n",
            "  0%|          | 0/10 [00:00<?, ?it/s]"
          ],
          "name": "stderr"
        },
        {
          "output_type": "stream",
          "text": [
            "Training loss: 0.00566\n",
            "Epoch: 100\n"
          ],
          "name": "stdout"
        },
        {
          "output_type": "stream",
          "text": [
            "100%|██████████| 10/10 [00:06<00:00,  1.58it/s]\n",
            "  0%|          | 0/68 [00:00<?, ?it/s]"
          ],
          "name": "stderr"
        },
        {
          "output_type": "stream",
          "text": [
            "Training loss: 0.00586\n"
          ],
          "name": "stdout"
        },
        {
          "output_type": "stream",
          "text": [
            " 10%|█         | 7/68 [00:02<00:30,  2.01it/s]"
          ],
          "name": "stderr"
        },
        {
          "output_type": "stream",
          "text": [
            "Malformed expression ['*', '-', '+', '-', '*', '7', '9.4', '6', '-', '+', '-', '*', '7', '9.4', '6']\n",
            "Malformed expression ['*', '-', '+', '-', '*', '7', '9.4', '6', '-', '+', '-', '*', '7', '9.4', '6']\n",
            "Malformed expression ['*', '-', '+', '-', '*', '7', '9.4', '6', '-', '+', '-', '*', '7', '9.4', '6']\n",
            "Malformed expression ['*', '-', '+', '-', '*', '7', '9.4', '6', '-', '+', '-', '*', '7', '9.4', '6']\n"
          ],
          "name": "stdout"
        },
        {
          "output_type": "stream",
          "text": [
            " 13%|█▎        | 9/68 [00:03<00:30,  1.95it/s]"
          ],
          "name": "stderr"
        },
        {
          "output_type": "stream",
          "text": [
            "Malformed expression ['*', '+', '-', '*', '7', '9.4', '8', '+', '-', '*', '7', '9.4', '8']\n",
            "Malformed expression ['*', '+', '-', '*', '7', '9.4', '8', '+', '-', '*', '7', '9.4', '8']\n"
          ],
          "name": "stdout"
        },
        {
          "output_type": "stream",
          "text": [
            " 21%|██        | 14/68 [00:05<00:24,  2.21it/s]"
          ],
          "name": "stderr"
        },
        {
          "output_type": "stream",
          "text": [
            "Malformed expression ['-', '-', '6', '*', '*', '*', '0.1', '2', '7', '+', '-', '*', '7', '6', '8']\n",
            "Malformed expression ['-', '-', '6', '*', '*', '*', '0.1', '2', '7', '+', '-', '*', '7', '6', '8']\n"
          ],
          "name": "stdout"
        },
        {
          "output_type": "stream",
          "text": [
            "\r 22%|██▏       | 15/68 [00:05<00:20,  2.55it/s]"
          ],
          "name": "stderr"
        },
        {
          "output_type": "stream",
          "text": [
            "Malformed expression ['+', '+', '-', '*', '1', '1', '*', '1', '0', '0']\n"
          ],
          "name": "stdout"
        },
        {
          "output_type": "stream",
          "text": [
            " 29%|██▉       | 20/68 [00:08<00:21,  2.24it/s]"
          ],
          "name": "stderr"
        },
        {
          "output_type": "stream",
          "text": [
            "Malformed expression ['-', '9.4', '*', '*', '*', '0.1', '2', '4', '-', '+', '*', '4', '9.4', '5']\n"
          ],
          "name": "stdout"
        },
        {
          "output_type": "stream",
          "text": [
            " 41%|████      | 28/68 [00:10<00:12,  3.12it/s]"
          ],
          "name": "stderr"
        },
        {
          "output_type": "stream",
          "text": [
            "Malformed expression ['+', '+', '-', '-', '*', '1', '1', '*', '0', '0', '3']\n",
            "Malformed expression ['+', '+', '-', '-', '*', '1', '1', '*', '0', '0', '3']\n"
          ],
          "name": "stdout"
        },
        {
          "output_type": "stream",
          "text": [
            "\r 43%|████▎     | 29/68 [00:10<00:13,  2.88it/s]"
          ],
          "name": "stderr"
        },
        {
          "output_type": "stream",
          "text": [
            "Malformed expression ['-', '+', '+', '-', '*', '0', '1', '*', '1', '0', '6']\n",
            "Malformed expression ['-', '+', '+', '-', '*', '0', '1', '*', '1', '0', '6']\n"
          ],
          "name": "stdout"
        },
        {
          "output_type": "stream",
          "text": [
            " 46%|████▌     | 31/68 [00:12<00:16,  2.19it/s]"
          ],
          "name": "stderr"
        },
        {
          "output_type": "stream",
          "text": [
            "Malformed expression ['-', '-', '6', '*', '*', '*', '0.1', '2', '10', '-', '+', '-', '*', '10', '6', '5']\n",
            "Malformed expression ['-', '-', '6', '*', '*', '*', '0.1', '2', '10', '-', '+', '-', '*', '10', '6', '5']\n",
            "Malformed expression ['-', '-', '6', '*', '*', '*', '0.1', '2', '10', '-', '+', '-', '*', '10', '6', '5']\n"
          ],
          "name": "stdout"
        },
        {
          "output_type": "stream",
          "text": [
            " 53%|█████▎    | 36/68 [00:14<00:13,  2.30it/s]"
          ],
          "name": "stderr"
        },
        {
          "output_type": "stream",
          "text": [
            "Malformed expression ['-', '-', '6', '*', '*', '*', '0.1', '2', '0.3', '+', '-', '*', '0.3', '6', '6']\n",
            "Malformed expression ['-', '-', '6', '*', '*', '*', '0.1', '2', '0.3', '+', '-', '*', '0.3', '6', '6']\n"
          ],
          "name": "stdout"
        },
        {
          "output_type": "stream",
          "text": [
            " 59%|█████▉    | 40/68 [00:15<00:14,  1.93it/s]"
          ],
          "name": "stderr"
        },
        {
          "output_type": "stream",
          "text": [
            "Malformed expression ['-', '+', '+', '*', '1', '2', '*', '1', '1', '6']\n"
          ],
          "name": "stdout"
        },
        {
          "output_type": "stream",
          "text": [
            "\r 60%|██████    | 41/68 [00:16<00:11,  2.28it/s]"
          ],
          "name": "stderr"
        },
        {
          "output_type": "stream",
          "text": [
            "Malformed expression ['+', '+', '-', '*', '1', '0', '*', '0', '1', '0.25']\n"
          ],
          "name": "stdout"
        },
        {
          "output_type": "stream",
          "text": [
            " 75%|███████▌  | 51/68 [00:18<00:03,  4.52it/s]"
          ],
          "name": "stderr"
        },
        {
          "output_type": "stream",
          "text": [
            "Malformed expression ['+', '+', '-', '*', '1', '3', '*', '0', '4', '0.25']\n"
          ],
          "name": "stdout"
        },
        {
          "output_type": "stream",
          "text": [
            "\r 76%|███████▋  | 52/68 [00:18<00:05,  3.16it/s]"
          ],
          "name": "stderr"
        },
        {
          "output_type": "stream",
          "text": [
            "Malformed expression ['-', '+', '+', '-', '*', '1', '4', '*', '0', '5', '6']\n",
            "Malformed expression ['-', '+', '+', '-', '*', '1', '4', '*', '0', '5', '6']\n"
          ],
          "name": "stdout"
        },
        {
          "output_type": "stream",
          "text": [
            " 87%|████████▋ | 59/68 [00:21<00:04,  2.13it/s]"
          ],
          "name": "stderr"
        },
        {
          "output_type": "stream",
          "text": [
            "Malformed expression ['-', '15.4', '*', '*', '*', '0.1', '2', '7', '-', '+', '*', '7', '15.4', '5']\n"
          ],
          "name": "stdout"
        },
        {
          "output_type": "stream",
          "text": [
            "100%|██████████| 68/68 [00:23<00:00,  2.96it/s]\n"
          ],
          "name": "stderr"
        },
        {
          "output_type": "stream",
          "text": [
            "Validation expression accuracy: 0.794\n",
            "Validation value accuracy: 0.794\n",
            "saved model\n",
            "\n"
          ],
          "name": "stdout"
        }
      ]
    },
    {
      "cell_type": "markdown",
      "metadata": {
        "id": "JdPtn5nDSuit"
      },
      "source": [
        "# Prediction\n",
        "\n",
        "Once you have trained your model to a satisfactory accuracy, you can load in a checkpoint to predict on the test set. The output is a `'predictions.csv'` file in your directory, and you should submit this directly to the [Kaggle server](https://www.kaggle.com/t/7bf8b542b96f4214b0cca1e4d9b0bb17)."
      ]
    },
    {
      "cell_type": "code",
      "metadata": {
        "id": "CW0kAe3kzT5K"
      },
      "source": [
        "# def compute_acc(predictions):\n",
        "#     #abs(evaluate_prefix_expression(pred) - evaluate_prefix_expression(ref)) < 1e-4\n",
        "#     total = 0\n",
        "#     correct = 0\n",
        "#     with open(answers_path, 'r') as f:\n",
        "#         answers = json.load(f)\n",
        "#     for index, row in predictions.iterrows():\n",
        "        \n",
        "#         id = index -1\n",
        "#         ans = answers[id]\n",
        "#         assert ans['Id'] == index, f'ans id: {ans[\"Id\"]}, pred id: {id}'\n",
        "#         if abs(row['Predicted'] - float(ans['answer'].replace(\",\",\"\"))) < 1e-4:\n",
        "#             pred = row['Predicted']\n",
        "#             correct += 1\n",
        "#             print(pred, ans['answer'])\n",
        "#             print(\"Row: \", row)\n",
        "#         # else:\n",
        "#         #     print(row['Predicted'], ans['answer'])\n",
        "                  \n",
        "#         total += 1\n",
        "#     print(\"Accuracy: \", correct/total)\n",
        "\n",
        "from collections import defaultdict\n",
        "def compute_acc(predictions):\n",
        "    #abs(evaluate_prefix_expression(pred) - evaluate_prefix_expression(ref)) < 1e-4\n",
        "    per_type = defaultdict(lambda : [0,0])\n",
        "    total = 0\n",
        "    correct = 0\n",
        "    with open(answers_path, 'r') as f:\n",
        "        answers = json.load(f)\n",
        "    for index, row in predictions.iterrows():\n",
        "        \n",
        "        id = index\n",
        "        for ans in answers:\n",
        "            if ans[\"Id\"] == index:\n",
        "                break\n",
        "        q_type = ans[\"q_type\"]\n",
        "        assert ans['Id'] == index, f'ans id: {ans[\"Id\"]}, pred id: {id}'\n",
        "        if abs(row['Predicted'] - ans['answer']) < 1e-4:\n",
        "            pred = row['Predicted']\n",
        "            correct += 1\n",
        "            per_type[q_type][0] += 1 \n",
        "        # else:\n",
        "        #     print(row['Predicted'], ans['answer'])\n",
        "                  \n",
        "        total += 1\n",
        "        per_type[q_type][1] += 1\n",
        "    \n",
        "    for key, val in per_type.items():\n",
        "        print(\"Question type: {:8s} accuracy: {:2.2f}\".format(key, round(val[0]/val[1],2)))\n",
        "    print(\"OVERALL accuracy: \", round(correct/total, 2))"
      ],
      "execution_count": 29,
      "outputs": []
    },
    {
      "cell_type": "code",
      "metadata": {
        "ExecuteTime": {
          "end_time": "2020-10-31T01:13:09.747362Z",
          "start_time": "2020-10-31T01:11:41.063125Z"
        },
        "id": "V0RIDffMSuit",
        "colab": {
          "base_uri": "https://localhost:8080/"
        },
        "outputId": "a3b8dcea-9278-4011-e4cf-f8a057c1a3d2"
      },
      "source": [
        "use_t5 = 'small'\n",
        "eval_epoch = 100#epoch #30\n",
        "print(\"eval epoch: \", eval_epoch)\n",
        "device = 'cpu'\n",
        "\n",
        "# Make sure your parameter here is the exact same as the parameters you trained with,\n",
        "# else the model will not load correctly\n",
        "n_max_in = 100\n",
        "if use_t5:\n",
        "    # T5 hyperparameters\n",
        "    freeze_layers = []\n",
        "    n_hid = dict(small=512, base=768)[use_t5] # Do not modify unless you want to try t5-large\n",
        "else:\n",
        "    # Custom transformer hyperparameters\n",
        "    n_layers = 3\n",
        "    n_hid = 512\n",
        "    n_k = n_v = 64\n",
        "    n_head = 8\n",
        "\n",
        "test_data, in_vocab, out_vocab, n_max_nP, t5_model = setup(use_t5, do_eval=True)\n",
        "model = Model()\n",
        "model.load_state_dict(torch.load(f'{root_dir}/new_models/{use_t5 or \"custom\"}/model-{eval_epoch}.pth'))\n",
        "tensorize_data(test_data)\n",
        "\n",
        "with torch.no_grad():\n",
        "    for d in tqdm(test_data): # There's no quadratics in the test_data, fortunately\n",
        "        pred = predict(d, model)\n",
        "        d['pred_tokens'] = pred_tokens = [out_vocab.idx2token[idx] for idx in pred]\n",
        "        d['subbed_tokens'] = subbed_tokens = sub_nP(pred_tokens, d['nP'])\n",
        "        d['Predicted'] = round(evaluate_prefix_expression(subbed_tokens), 3) # Make sure to round to 3 decimals\n",
        "\n"
      ],
      "execution_count": 30,
      "outputs": [
        {
          "output_type": "stream",
          "text": [
            "eval epoch:  100\n"
          ],
          "name": "stdout"
        },
        {
          "output_type": "stream",
          "text": [
            "Some weights of T5Model were not initialized from the model checkpoint at t5-small and are newly initialized: ['encoder.embed_tokens.weight', 'decoder.embed_tokens.weight']\n",
            "You should probably TRAIN this model on a down-stream task to be able to use it for predictions and inference.\n",
            "/usr/local/lib/python3.6/dist-packages/transformers/modeling_auto.py:837: FutureWarning: The class `AutoModelWithLMHead` is deprecated and will be removed in a future version. Please use `AutoModelForCausalLM` for causal language models, `AutoModelForMaskedLM` for masked language models and `AutoModelForSeq2SeqLM` for encoder-decoder models.\n",
            "  FutureWarning,\n",
            "100%|██████████| 345/345 [04:08<00:00,  1.39it/s]\n"
          ],
          "name": "stderr"
        }
      ]
    },
    {
      "cell_type": "code",
      "metadata": {
        "id": "vfbTAEKd199J"
      },
      "source": [
        "import pandas as pd\n",
        "predictions = pd.DataFrame(test_data).set_index('Id')"
      ],
      "execution_count": 31,
      "outputs": []
    },
    {
      "cell_type": "code",
      "metadata": {
        "ExecuteTime": {
          "end_time": "2020-10-31T01:14:25.376654Z",
          "start_time": "2020-10-31T01:14:25.329127Z"
        },
        "id": "7Q7iX-0FSuiv",
        "colab": {
          "base_uri": "https://localhost:8080/"
        },
        "outputId": "0d4d7748-a403-420f-faf5-b6ceec3acacd"
      },
      "source": [
        "predictions[['pred_tokens', 'subbed_tokens', 'Predicted']]\n",
        "print(learning_rate)"
      ],
      "execution_count": 32,
      "outputs": [
        {
          "output_type": "stream",
          "text": [
            "0.001\n"
          ],
          "name": "stdout"
        }
      ]
    },
    {
      "cell_type": "code",
      "metadata": {
        "ExecuteTime": {
          "end_time": "2020-10-31T02:18:39.234190Z",
          "start_time": "2020-10-31T02:18:39.193908Z"
        },
        "id": "ttoU50LQSuix"
      },
      "source": [
        "predictions[['Predicted']].replace([np.inf, -np.inf, np.nan], 0).to_csv('myprediction.csv')"
      ],
      "execution_count": 33,
      "outputs": []
    },
    {
      "cell_type": "code",
      "metadata": {
        "id": "Q5g-k5h80nr3",
        "colab": {
          "base_uri": "https://localhost:8080/"
        },
        "outputId": "d6fc9c07-9145-4f8c-be5b-2321a27613de"
      },
      "source": [
        "compute_acc(predictions)"
      ],
      "execution_count": 34,
      "outputs": [
        {
          "output_type": "stream",
          "text": [
            "Question type: logreg   accuracy: 0.46\n",
            "Question type: gd2      accuracy: 0.66\n",
            "Question type: fil1     accuracy: 1.00\n",
            "Question type: fil2     accuracy: 0.25\n",
            "Question type: rnn      accuracy: 0.82\n",
            "OVERALL accuracy:  0.57\n"
          ],
          "name": "stdout"
        }
      ]
    },
    {
      "cell_type": "code",
      "metadata": {
        "id": "bKJuGZ-qoMA_",
        "colab": {
          "base_uri": "https://localhost:8080/"
        },
        "outputId": "cc0387e2-77b7-4560-bf0f-fa47c2e70401"
      },
      "source": [
        "!pip install transformers\n",
        "from transformers import AutoModelWithLMHead\n",
        "t5_encoder = AutoModelWithLMHead.from_pretrained(\"t5-small\").encoder"
      ],
      "execution_count": 35,
      "outputs": [
        {
          "output_type": "stream",
          "text": [
            "Requirement already satisfied: transformers in /usr/local/lib/python3.6/dist-packages (3.5.1)\n",
            "Requirement already satisfied: filelock in /usr/local/lib/python3.6/dist-packages (from transformers) (3.0.12)\n",
            "Requirement already satisfied: dataclasses; python_version < \"3.7\" in /usr/local/lib/python3.6/dist-packages (from transformers) (0.8)\n",
            "Requirement already satisfied: sentencepiece==0.1.91 in /usr/local/lib/python3.6/dist-packages (from transformers) (0.1.91)\n",
            "Requirement already satisfied: protobuf in /usr/local/lib/python3.6/dist-packages (from transformers) (3.12.4)\n",
            "Requirement already satisfied: regex!=2019.12.17 in /usr/local/lib/python3.6/dist-packages (from transformers) (2019.12.20)\n",
            "Requirement already satisfied: numpy in /usr/local/lib/python3.6/dist-packages (from transformers) (1.18.5)\n",
            "Requirement already satisfied: packaging in /usr/local/lib/python3.6/dist-packages (from transformers) (20.4)\n",
            "Requirement already satisfied: sacremoses in /usr/local/lib/python3.6/dist-packages (from transformers) (0.0.43)\n",
            "Requirement already satisfied: tqdm>=4.27 in /usr/local/lib/python3.6/dist-packages (from transformers) (4.41.1)\n",
            "Requirement already satisfied: tokenizers==0.9.3 in /usr/local/lib/python3.6/dist-packages (from transformers) (0.9.3)\n",
            "Requirement already satisfied: requests in /usr/local/lib/python3.6/dist-packages (from transformers) (2.23.0)\n",
            "Requirement already satisfied: setuptools in /usr/local/lib/python3.6/dist-packages (from protobuf->transformers) (50.3.2)\n",
            "Requirement already satisfied: six>=1.9 in /usr/local/lib/python3.6/dist-packages (from protobuf->transformers) (1.15.0)\n",
            "Requirement already satisfied: pyparsing>=2.0.2 in /usr/local/lib/python3.6/dist-packages (from packaging->transformers) (2.4.7)\n",
            "Requirement already satisfied: click in /usr/local/lib/python3.6/dist-packages (from sacremoses->transformers) (7.1.2)\n",
            "Requirement already satisfied: joblib in /usr/local/lib/python3.6/dist-packages (from sacremoses->transformers) (0.17.0)\n",
            "Requirement already satisfied: idna<3,>=2.5 in /usr/local/lib/python3.6/dist-packages (from requests->transformers) (2.10)\n",
            "Requirement already satisfied: urllib3!=1.25.0,!=1.25.1,<1.26,>=1.21.1 in /usr/local/lib/python3.6/dist-packages (from requests->transformers) (1.24.3)\n",
            "Requirement already satisfied: chardet<4,>=3.0.2 in /usr/local/lib/python3.6/dist-packages (from requests->transformers) (3.0.4)\n",
            "Requirement already satisfied: certifi>=2017.4.17 in /usr/local/lib/python3.6/dist-packages (from requests->transformers) (2020.11.8)\n"
          ],
          "name": "stdout"
        },
        {
          "output_type": "stream",
          "text": [
            "/usr/local/lib/python3.6/dist-packages/transformers/modeling_auto.py:837: FutureWarning: The class `AutoModelWithLMHead` is deprecated and will be removed in a future version. Please use `AutoModelForCausalLM` for causal language models, `AutoModelForMaskedLM` for masked language models and `AutoModelForSeq2SeqLM` for encoder-decoder models.\n",
            "  FutureWarning,\n"
          ],
          "name": "stderr"
        }
      ]
    },
    {
      "cell_type": "code",
      "metadata": {
        "id": "Zn-3z7hk3WYE",
        "colab": {
          "base_uri": "https://localhost:8080/"
        },
        "outputId": "e5814d90-1c5c-4033-a162-d72256a6068f"
      },
      "source": [
        "t5_encoder"
      ],
      "execution_count": 36,
      "outputs": [
        {
          "output_type": "execute_result",
          "data": {
            "text/plain": [
              "T5Stack(\n",
              "  (embed_tokens): Embedding(32128, 512)\n",
              "  (block): ModuleList(\n",
              "    (0): T5Block(\n",
              "      (layer): ModuleList(\n",
              "        (0): T5LayerSelfAttention(\n",
              "          (SelfAttention): T5Attention(\n",
              "            (q): Linear(in_features=512, out_features=512, bias=False)\n",
              "            (k): Linear(in_features=512, out_features=512, bias=False)\n",
              "            (v): Linear(in_features=512, out_features=512, bias=False)\n",
              "            (o): Linear(in_features=512, out_features=512, bias=False)\n",
              "            (relative_attention_bias): Embedding(32, 8)\n",
              "          )\n",
              "          (layer_norm): T5LayerNorm()\n",
              "          (dropout): Dropout(p=0.1, inplace=False)\n",
              "        )\n",
              "        (1): T5LayerFF(\n",
              "          (DenseReluDense): T5DenseReluDense(\n",
              "            (wi): Linear(in_features=512, out_features=2048, bias=False)\n",
              "            (wo): Linear(in_features=2048, out_features=512, bias=False)\n",
              "            (dropout): Dropout(p=0.1, inplace=False)\n",
              "          )\n",
              "          (layer_norm): T5LayerNorm()\n",
              "          (dropout): Dropout(p=0.1, inplace=False)\n",
              "        )\n",
              "      )\n",
              "    )\n",
              "    (1): T5Block(\n",
              "      (layer): ModuleList(\n",
              "        (0): T5LayerSelfAttention(\n",
              "          (SelfAttention): T5Attention(\n",
              "            (q): Linear(in_features=512, out_features=512, bias=False)\n",
              "            (k): Linear(in_features=512, out_features=512, bias=False)\n",
              "            (v): Linear(in_features=512, out_features=512, bias=False)\n",
              "            (o): Linear(in_features=512, out_features=512, bias=False)\n",
              "          )\n",
              "          (layer_norm): T5LayerNorm()\n",
              "          (dropout): Dropout(p=0.1, inplace=False)\n",
              "        )\n",
              "        (1): T5LayerFF(\n",
              "          (DenseReluDense): T5DenseReluDense(\n",
              "            (wi): Linear(in_features=512, out_features=2048, bias=False)\n",
              "            (wo): Linear(in_features=2048, out_features=512, bias=False)\n",
              "            (dropout): Dropout(p=0.1, inplace=False)\n",
              "          )\n",
              "          (layer_norm): T5LayerNorm()\n",
              "          (dropout): Dropout(p=0.1, inplace=False)\n",
              "        )\n",
              "      )\n",
              "    )\n",
              "    (2): T5Block(\n",
              "      (layer): ModuleList(\n",
              "        (0): T5LayerSelfAttention(\n",
              "          (SelfAttention): T5Attention(\n",
              "            (q): Linear(in_features=512, out_features=512, bias=False)\n",
              "            (k): Linear(in_features=512, out_features=512, bias=False)\n",
              "            (v): Linear(in_features=512, out_features=512, bias=False)\n",
              "            (o): Linear(in_features=512, out_features=512, bias=False)\n",
              "          )\n",
              "          (layer_norm): T5LayerNorm()\n",
              "          (dropout): Dropout(p=0.1, inplace=False)\n",
              "        )\n",
              "        (1): T5LayerFF(\n",
              "          (DenseReluDense): T5DenseReluDense(\n",
              "            (wi): Linear(in_features=512, out_features=2048, bias=False)\n",
              "            (wo): Linear(in_features=2048, out_features=512, bias=False)\n",
              "            (dropout): Dropout(p=0.1, inplace=False)\n",
              "          )\n",
              "          (layer_norm): T5LayerNorm()\n",
              "          (dropout): Dropout(p=0.1, inplace=False)\n",
              "        )\n",
              "      )\n",
              "    )\n",
              "    (3): T5Block(\n",
              "      (layer): ModuleList(\n",
              "        (0): T5LayerSelfAttention(\n",
              "          (SelfAttention): T5Attention(\n",
              "            (q): Linear(in_features=512, out_features=512, bias=False)\n",
              "            (k): Linear(in_features=512, out_features=512, bias=False)\n",
              "            (v): Linear(in_features=512, out_features=512, bias=False)\n",
              "            (o): Linear(in_features=512, out_features=512, bias=False)\n",
              "          )\n",
              "          (layer_norm): T5LayerNorm()\n",
              "          (dropout): Dropout(p=0.1, inplace=False)\n",
              "        )\n",
              "        (1): T5LayerFF(\n",
              "          (DenseReluDense): T5DenseReluDense(\n",
              "            (wi): Linear(in_features=512, out_features=2048, bias=False)\n",
              "            (wo): Linear(in_features=2048, out_features=512, bias=False)\n",
              "            (dropout): Dropout(p=0.1, inplace=False)\n",
              "          )\n",
              "          (layer_norm): T5LayerNorm()\n",
              "          (dropout): Dropout(p=0.1, inplace=False)\n",
              "        )\n",
              "      )\n",
              "    )\n",
              "    (4): T5Block(\n",
              "      (layer): ModuleList(\n",
              "        (0): T5LayerSelfAttention(\n",
              "          (SelfAttention): T5Attention(\n",
              "            (q): Linear(in_features=512, out_features=512, bias=False)\n",
              "            (k): Linear(in_features=512, out_features=512, bias=False)\n",
              "            (v): Linear(in_features=512, out_features=512, bias=False)\n",
              "            (o): Linear(in_features=512, out_features=512, bias=False)\n",
              "          )\n",
              "          (layer_norm): T5LayerNorm()\n",
              "          (dropout): Dropout(p=0.1, inplace=False)\n",
              "        )\n",
              "        (1): T5LayerFF(\n",
              "          (DenseReluDense): T5DenseReluDense(\n",
              "            (wi): Linear(in_features=512, out_features=2048, bias=False)\n",
              "            (wo): Linear(in_features=2048, out_features=512, bias=False)\n",
              "            (dropout): Dropout(p=0.1, inplace=False)\n",
              "          )\n",
              "          (layer_norm): T5LayerNorm()\n",
              "          (dropout): Dropout(p=0.1, inplace=False)\n",
              "        )\n",
              "      )\n",
              "    )\n",
              "    (5): T5Block(\n",
              "      (layer): ModuleList(\n",
              "        (0): T5LayerSelfAttention(\n",
              "          (SelfAttention): T5Attention(\n",
              "            (q): Linear(in_features=512, out_features=512, bias=False)\n",
              "            (k): Linear(in_features=512, out_features=512, bias=False)\n",
              "            (v): Linear(in_features=512, out_features=512, bias=False)\n",
              "            (o): Linear(in_features=512, out_features=512, bias=False)\n",
              "          )\n",
              "          (layer_norm): T5LayerNorm()\n",
              "          (dropout): Dropout(p=0.1, inplace=False)\n",
              "        )\n",
              "        (1): T5LayerFF(\n",
              "          (DenseReluDense): T5DenseReluDense(\n",
              "            (wi): Linear(in_features=512, out_features=2048, bias=False)\n",
              "            (wo): Linear(in_features=2048, out_features=512, bias=False)\n",
              "            (dropout): Dropout(p=0.1, inplace=False)\n",
              "          )\n",
              "          (layer_norm): T5LayerNorm()\n",
              "          (dropout): Dropout(p=0.1, inplace=False)\n",
              "        )\n",
              "      )\n",
              "    )\n",
              "  )\n",
              "  (final_layer_norm): T5LayerNorm()\n",
              "  (dropout): Dropout(p=0.1, inplace=False)\n",
              ")"
            ]
          },
          "metadata": {
            "tags": []
          },
          "execution_count": 36
        }
      ]
    }
  ]
}